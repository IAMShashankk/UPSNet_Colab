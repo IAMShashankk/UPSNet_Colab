{
  "nbformat": 4,
  "nbformat_minor": 0,
  "metadata": {
    "colab": {
      "name": "UPSNet_Colab_GDrive_DataSet.ipynb",
      "provenance": [],
      "collapsed_sections": []
    },
    "kernelspec": {
      "name": "python3",
      "display_name": "Python 3"
    },
    "accelerator": "GPU"
  },
  "cells": [
    {
      "cell_type": "markdown",
      "metadata": {
        "id": "Dxu2VvVUx-mR"
      },
      "source": [
        "Mount the google drive."
      ]
    },
    {
      "cell_type": "code",
      "metadata": {
        "id": "iSRGDQ9VJpx1",
        "colab": {
          "base_uri": "https://localhost:8080/"
        },
        "outputId": "600b430a-0164-43c1-8468-32268ae34d0e"
      },
      "source": [
        "import os\n",
        "import stat\n",
        "from google.colab import drive\n",
        "drive.mount('/content/gdrive')"
      ],
      "execution_count": null,
      "outputs": [
        {
          "output_type": "stream",
          "text": [
            "Mounted at /content/gdrive\n"
          ],
          "name": "stdout"
        }
      ]
    },
    {
      "cell_type": "markdown",
      "metadata": {
        "id": "DDa2qBF-yC-V"
      },
      "source": [
        "Clone UPSNet repository."
      ]
    },
    {
      "cell_type": "code",
      "metadata": {
        "id": "agcOSZCxDysz",
        "colab": {
          "base_uri": "https://localhost:8080/"
        },
        "outputId": "46e61eac-94fb-4b23-fc8f-2703478c7329"
      },
      "source": [
        "!git clone https://github.com/uber-research/UPSNet"
      ],
      "execution_count": null,
      "outputs": [
        {
          "output_type": "stream",
          "text": [
            "Cloning into 'UPSNet'...\n",
            "remote: Enumerating objects: 232, done.\u001b[K\n",
            "remote: Total 232 (delta 0), reused 0 (delta 0), pack-reused 232\u001b[K\n",
            "Receiving objects: 100% (232/232), 160.22 KiB | 382.00 KiB/s, done.\n",
            "Resolving deltas: 100% (106/106), done.\n"
          ],
          "name": "stdout"
        }
      ]
    },
    {
      "cell_type": "markdown",
      "metadata": {
        "id": "SvNTJwvGyGt9"
      },
      "source": [
        "Set rights to execute the shell files."
      ]
    },
    {
      "cell_type": "code",
      "metadata": {
        "id": "sBS7bfTyDUpk"
      },
      "source": [
        "st = os.stat('/content/UPSNet/init.sh')\n",
        "os.chmod('/content/UPSNet/init.sh', st.st_mode | stat.S_IEXEC)"
      ],
      "execution_count": null,
      "outputs": []
    },
    {
      "cell_type": "code",
      "metadata": {
        "id": "ufMeHq5-ktQG"
      },
      "source": [
        "st = os.stat('/content/UPSNet/init_cityscapes.sh')\n",
        "os.chmod('/content/UPSNet/init_cityscapes.sh', st.st_mode | stat.S_IEXEC)\n",
        "st = os.stat('/content/UPSNet/download_weights.sh')\n",
        "os.chmod('/content/UPSNet/download_weights.sh', st.st_mode | stat.S_IEXEC)"
      ],
      "execution_count": null,
      "outputs": []
    },
    {
      "cell_type": "markdown",
      "metadata": {
        "id": "kDZOm_eOyK-h"
      },
      "source": [
        "Install required libraries; CUDA version used will work on with torch 1.4.0"
      ]
    },
    {
      "cell_type": "code",
      "metadata": {
        "id": "--wX6MyK9y1V",
        "colab": {
          "base_uri": "https://localhost:8080/"
        },
        "outputId": "0d8316d7-6e7c-45bf-f9c4-c3a2ebf007e1"
      },
      "source": [
        "!pip install torch==1.4.0 torchvision==0.5.0\n",
        "import torch\n",
        "print(torch.__version__)"
      ],
      "execution_count": null,
      "outputs": [
        {
          "output_type": "stream",
          "text": [
            "Collecting torch==1.4.0\n",
            "\u001b[?25l  Downloading https://files.pythonhosted.org/packages/24/19/4804aea17cd136f1705a5e98a00618cb8f6ccc375ad8bfa437408e09d058/torch-1.4.0-cp36-cp36m-manylinux1_x86_64.whl (753.4MB)\n",
            "\u001b[K     |████████████████████████████████| 753.4MB 21kB/s \n",
            "\u001b[33mWARNING: Retrying (Retry(total=4, connect=None, read=None, redirect=None, status=None)) after connection broken by 'ProtocolError('Connection aborted.', ConnectionResetError(104, 'Connection reset by peer'))': /simple/torchvision/\u001b[0m\n",
            "\u001b[?25hCollecting torchvision==0.5.0\n",
            "\u001b[?25l  Downloading https://files.pythonhosted.org/packages/7e/90/6141bf41f5655c78e24f40f710fdd4f8a8aff6c8b7c6f0328240f649bdbe/torchvision-0.5.0-cp36-cp36m-manylinux1_x86_64.whl (4.0MB)\n",
            "\u001b[K     |████████████████████████████████| 4.0MB 51.8MB/s \n",
            "\u001b[?25hRequirement already satisfied: pillow>=4.1.1 in /usr/local/lib/python3.6/dist-packages (from torchvision==0.5.0) (7.0.0)\n",
            "Requirement already satisfied: six in /usr/local/lib/python3.6/dist-packages (from torchvision==0.5.0) (1.15.0)\n",
            "Requirement already satisfied: numpy in /usr/local/lib/python3.6/dist-packages (from torchvision==0.5.0) (1.18.5)\n",
            "Installing collected packages: torch, torchvision\n",
            "  Found existing installation: torch 1.7.0+cu101\n",
            "    Uninstalling torch-1.7.0+cu101:\n",
            "      Successfully uninstalled torch-1.7.0+cu101\n",
            "  Found existing installation: torchvision 0.8.1+cu101\n",
            "    Uninstalling torchvision-0.8.1+cu101:\n",
            "      Successfully uninstalled torchvision-0.8.1+cu101\n",
            "Successfully installed torch-1.4.0 torchvision-0.5.0\n",
            "1.4.0\n"
          ],
          "name": "stdout"
        }
      ]
    },
    {
      "cell_type": "code",
      "metadata": {
        "id": "vfDVwDO8qWax",
        "colab": {
          "base_uri": "https://localhost:8080/"
        },
        "outputId": "0bdedaee-7d19-4077-9df4-4e84d11de8cf"
      },
      "source": [
        "!pip install horovod"
      ],
      "execution_count": null,
      "outputs": [
        {
          "output_type": "stream",
          "text": [
            "Collecting horovod\n",
            "\u001b[?25l  Downloading https://files.pythonhosted.org/packages/6f/bd/b979db25c1337967472630714d0f98ec596ad9f199a3d1777dc36453d713/horovod-0.20.3.tar.gz (3.2MB)\n",
            "\u001b[K     |████████████████████████████████| 3.2MB 5.5MB/s \n",
            "\u001b[?25hRequirement already satisfied: cloudpickle in /usr/local/lib/python3.6/dist-packages (from horovod) (1.3.0)\n",
            "Requirement already satisfied: psutil in /usr/local/lib/python3.6/dist-packages (from horovod) (5.4.8)\n",
            "Requirement already satisfied: pyyaml in /usr/local/lib/python3.6/dist-packages (from horovod) (3.13)\n",
            "Requirement already satisfied: cffi>=1.4.0 in /usr/local/lib/python3.6/dist-packages (from horovod) (1.14.3)\n",
            "Requirement already satisfied: dataclasses in /usr/local/lib/python3.6/dist-packages (from horovod) (0.7)\n",
            "Requirement already satisfied: pycparser in /usr/local/lib/python3.6/dist-packages (from cffi>=1.4.0->horovod) (2.20)\n",
            "Building wheels for collected packages: horovod\n",
            "  Building wheel for horovod (setup.py) ... \u001b[?25l\u001b[?25hdone\n",
            "  Created wheel for horovod: filename=horovod-0.20.3-cp36-cp36m-linux_x86_64.whl size=21568032 sha256=bdd1abaff50e43854c5db8547c66e902fdb9ac4a708f6f08c8d3c88743b57eb2\n",
            "  Stored in directory: /root/.cache/pip/wheels/b7/71/d8/0d2dfd35b766769e8b8f47c5671d8aaa026931bf60a5272a8b\n",
            "Successfully built horovod\n",
            "Installing collected packages: horovod\n",
            "Successfully installed horovod-0.20.3\n"
          ],
          "name": "stdout"
        }
      ]
    },
    {
      "cell_type": "code",
      "metadata": {
        "id": "KBGtH6r49gKc",
        "colab": {
          "base_uri": "https://localhost:8080/",
          "height": 681
        },
        "outputId": "8bc2305d-b9fe-4362-8ffe-2b4b5f8aac27"
      },
      "source": [
        "!pip install cityscapesscripts"
      ],
      "execution_count": null,
      "outputs": [
        {
          "output_type": "stream",
          "text": [
            "Collecting cityscapesscripts\n",
            "\u001b[?25l  Downloading https://files.pythonhosted.org/packages/2c/7d/ea26c3865bfaae3d8e65aeec0a6cbe76ed8f4b276635390d2a5a75c3a465/cityscapesScripts-2.1.7-py3-none-any.whl (472kB)\n",
            "\u001b[K     |████████████████████████████████| 481kB 5.6MB/s \n",
            "\u001b[?25hCollecting appdirs\n",
            "  Downloading https://files.pythonhosted.org/packages/3b/00/2344469e2084fb287c2e0b57b72910309874c3245463acd6cf5e3db69324/appdirs-1.4.4-py2.py3-none-any.whl\n",
            "Requirement already satisfied: pillow in /usr/local/lib/python3.6/dist-packages (from cityscapesscripts) (7.0.0)\n",
            "Requirement already satisfied: matplotlib in /usr/local/lib/python3.6/dist-packages (from cityscapesscripts) (3.2.2)\n",
            "Collecting pyquaternion\n",
            "  Downloading https://files.pythonhosted.org/packages/49/b3/d8482e8cacc8ea15a356efea13d22ce1c5914a9ee36622ba250523240bf2/pyquaternion-0.9.9-py3-none-any.whl\n",
            "Collecting typing\n",
            "\u001b[?25l  Downloading https://files.pythonhosted.org/packages/05/d9/6eebe19d46bd05360c9a9aae822e67a80f9242aabbfc58b641b957546607/typing-3.7.4.3.tar.gz (78kB)\n",
            "\u001b[K     |████████████████████████████████| 81kB 12.7MB/s \n",
            "\u001b[?25hRequirement already satisfied: tqdm in /usr/local/lib/python3.6/dist-packages (from cityscapesscripts) (4.41.1)\n",
            "Requirement already satisfied: numpy in /usr/local/lib/python3.6/dist-packages (from cityscapesscripts) (1.18.5)\n",
            "Collecting coloredlogs\n",
            "\u001b[?25l  Downloading https://files.pythonhosted.org/packages/5c/2f/12747be360d6dea432e7b5dfae3419132cb008535cfe614af73b9ce2643b/coloredlogs-14.0-py2.py3-none-any.whl (43kB)\n",
            "\u001b[K     |████████████████████████████████| 51kB 7.8MB/s \n",
            "\u001b[?25hRequirement already satisfied: pyparsing!=2.0.4,!=2.1.2,!=2.1.6,>=2.0.1 in /usr/local/lib/python3.6/dist-packages (from matplotlib->cityscapesscripts) (2.4.7)\n",
            "Requirement already satisfied: cycler>=0.10 in /usr/local/lib/python3.6/dist-packages (from matplotlib->cityscapesscripts) (0.10.0)\n",
            "Requirement already satisfied: kiwisolver>=1.0.1 in /usr/local/lib/python3.6/dist-packages (from matplotlib->cityscapesscripts) (1.3.1)\n",
            "Requirement already satisfied: python-dateutil>=2.1 in /usr/local/lib/python3.6/dist-packages (from matplotlib->cityscapesscripts) (2.8.1)\n",
            "Collecting humanfriendly>=7.1\n",
            "\u001b[?25l  Downloading https://files.pythonhosted.org/packages/8e/2d/2f1b0a780b8c948c06c74c8c80e68ac354da52397ba432a1c5ac1923c3af/humanfriendly-8.2-py2.py3-none-any.whl (86kB)\n",
            "\u001b[K     |████████████████████████████████| 92kB 12.0MB/s \n",
            "\u001b[?25hRequirement already satisfied: six in /usr/local/lib/python3.6/dist-packages (from cycler>=0.10->matplotlib->cityscapesscripts) (1.15.0)\n",
            "Building wheels for collected packages: typing\n",
            "  Building wheel for typing (setup.py) ... \u001b[?25l\u001b[?25hdone\n",
            "  Created wheel for typing: filename=typing-3.7.4.3-cp36-none-any.whl size=26307 sha256=23d7b2e2d7562091809da58fdaef23f98e7879a5b96f843ec027c5388f980c85\n",
            "  Stored in directory: /root/.cache/pip/wheels/2d/04/41/8e1836e79581989c22eebac3f4e70aaac9af07b0908da173be\n",
            "Successfully built typing\n",
            "Installing collected packages: appdirs, pyquaternion, typing, humanfriendly, coloredlogs, cityscapesscripts\n",
            "Successfully installed appdirs-1.4.4 cityscapesscripts-2.1.7 coloredlogs-14.0 humanfriendly-8.2 pyquaternion-0.9.9 typing-3.7.4.3\n"
          ],
          "name": "stdout"
        },
        {
          "output_type": "display_data",
          "data": {
            "application/vnd.colab-display-data+json": {
              "pip_warning": {
                "packages": [
                  "typing"
                ]
              }
            }
          },
          "metadata": {
            "tags": []
          }
        }
      ]
    },
    {
      "cell_type": "code",
      "metadata": {
        "id": "J5HIKPQxn5wL",
        "colab": {
          "base_uri": "https://localhost:8080/"
        },
        "outputId": "e54de4e3-9fd3-4803-b072-d88f25ca248d"
      },
      "source": [
        "!pip install tensorboardX"
      ],
      "execution_count": null,
      "outputs": [
        {
          "output_type": "stream",
          "text": [
            "Collecting tensorboardX\n",
            "\u001b[?25l  Downloading https://files.pythonhosted.org/packages/af/0c/4f41bcd45db376e6fe5c619c01100e9b7531c55791b7244815bac6eac32c/tensorboardX-2.1-py2.py3-none-any.whl (308kB)\n",
            "\u001b[K     |████████████████████████████████| 317kB 4.5MB/s \n",
            "\u001b[?25hRequirement already satisfied: numpy in /usr/local/lib/python3.6/dist-packages (from tensorboardX) (1.18.5)\n",
            "Requirement already satisfied: six in /usr/local/lib/python3.6/dist-packages (from tensorboardX) (1.15.0)\n",
            "Requirement already satisfied: protobuf>=3.8.0 in /usr/local/lib/python3.6/dist-packages (from tensorboardX) (3.12.4)\n",
            "Requirement already satisfied: setuptools in /usr/local/lib/python3.6/dist-packages (from protobuf>=3.8.0->tensorboardX) (50.3.2)\n",
            "Installing collected packages: tensorboardX\n",
            "Successfully installed tensorboardX-2.1\n"
          ],
          "name": "stdout"
        }
      ]
    },
    {
      "cell_type": "code",
      "metadata": {
        "id": "aSMWqFkHF38E",
        "colab": {
          "base_uri": "https://localhost:8080/"
        },
        "outputId": "fbeb827f-b312-4a60-e2f4-eb1f7af6db6d"
      },
      "source": [
        "pip install git+https://github.com/cocodataset/panopticapi.git"
      ],
      "execution_count": null,
      "outputs": [
        {
          "output_type": "stream",
          "text": [
            "Collecting git+https://github.com/cocodataset/panopticapi.git\n",
            "  Cloning https://github.com/cocodataset/panopticapi.git to /tmp/pip-req-build-u0ayv5gq\n",
            "  Running command git clone -q https://github.com/cocodataset/panopticapi.git /tmp/pip-req-build-u0ayv5gq\n",
            "Requirement already satisfied: numpy in /usr/local/lib/python3.6/dist-packages (from panopticapi==0.1) (1.18.5)\n",
            "Requirement already satisfied: Pillow in /usr/local/lib/python3.6/dist-packages (from panopticapi==0.1) (7.0.0)\n",
            "Building wheels for collected packages: panopticapi\n",
            "  Building wheel for panopticapi (setup.py) ... \u001b[?25l\u001b[?25hdone\n",
            "  Created wheel for panopticapi: filename=panopticapi-0.1-cp36-none-any.whl size=8317 sha256=399a2f8172aed2d6880bc45acee6c59ea2126f4ced094c6ec8e371bccf983440\n",
            "  Stored in directory: /tmp/pip-ephem-wheel-cache-jx4nhwuq/wheels/41/ae/17/f7e628e1ba4776ceea035aefb113ef24b6639ad5d5a2e5a5d1\n",
            "Successfully built panopticapi\n",
            "Installing collected packages: panopticapi\n",
            "Successfully installed panopticapi-0.1\n"
          ],
          "name": "stdout"
        }
      ]
    },
    {
      "cell_type": "code",
      "metadata": {
        "id": "Wnq5N7jtD-7f",
        "colab": {
          "base_uri": "https://localhost:8080/"
        },
        "outputId": "8a682b60-6733-4e43-b80f-b5ffc08ec494"
      },
      "source": [
        "%cd '/content/UPSNet'"
      ],
      "execution_count": null,
      "outputs": [
        {
          "output_type": "stream",
          "text": [
            "/content/UPSNet\n"
          ],
          "name": "stdout"
        }
      ]
    },
    {
      "cell_type": "markdown",
      "metadata": {
        "id": "DNaDyk3ayZNn"
      },
      "source": [
        "This willl download the dependencies and build the cuda requirements."
      ]
    },
    {
      "cell_type": "code",
      "metadata": {
        "id": "QcF21l9mClfx",
        "colab": {
          "base_uri": "https://localhost:8080/"
        },
        "outputId": "ecc75875-502f-46fd-a000-2865cc1b26bd"
      },
      "source": [
        "!./init.sh"
      ],
      "execution_count": null,
      "outputs": [
        {
          "output_type": "stream",
          "text": [
            "  % Total    % Received % Xferd  Average Speed   Time    Time     Time  Current\n",
            "                                 Dload  Upload   Total   Spent    Left  Speed\n",
            "100  170M  100  170M    0     0  16.9M      0  0:00:10  0:00:10 --:--:-- 19.5M\n",
            "  % Total    % Received % Xferd  Average Speed   Time    Time     Time  Current\n",
            "                                 Dload  Upload   Total   Spent    Left  Speed\n",
            "100 97.7M  100 97.7M    0     0  16.4M      0  0:00:05  0:00:05 --:--:-- 19.6M\n",
            "Requirement already satisfied: pyyaml in /usr/local/lib/python3.6/dist-packages (3.13)\n",
            "Requirement already satisfied: pycocotools in /usr/local/lib/python3.6/dist-packages (2.0.2)\n",
            "Requirement already satisfied: cython>=0.27.3 in /usr/local/lib/python3.6/dist-packages (from pycocotools) (0.29.21)\n",
            "Requirement already satisfied: matplotlib>=2.1.0 in /usr/local/lib/python3.6/dist-packages (from pycocotools) (3.2.2)\n",
            "Requirement already satisfied: setuptools>=18.0 in /usr/local/lib/python3.6/dist-packages (from pycocotools) (50.3.2)\n",
            "Requirement already satisfied: pyparsing!=2.0.4,!=2.1.2,!=2.1.6,>=2.0.1 in /usr/local/lib/python3.6/dist-packages (from matplotlib>=2.1.0->pycocotools) (2.4.7)\n",
            "Requirement already satisfied: python-dateutil>=2.1 in /usr/local/lib/python3.6/dist-packages (from matplotlib>=2.1.0->pycocotools) (2.8.1)\n",
            "Requirement already satisfied: cycler>=0.10 in /usr/local/lib/python3.6/dist-packages (from matplotlib>=2.1.0->pycocotools) (0.10.0)\n",
            "Requirement already satisfied: numpy>=1.11 in /usr/local/lib/python3.6/dist-packages (from matplotlib>=2.1.0->pycocotools) (1.18.5)\n",
            "Requirement already satisfied: kiwisolver>=1.0.1 in /usr/local/lib/python3.6/dist-packages (from matplotlib>=2.1.0->pycocotools) (1.3.1)\n",
            "Requirement already satisfied: six>=1.5 in /usr/local/lib/python3.6/dist-packages (from python-dateutil>=2.1->matplotlib>=2.1.0->pycocotools) (1.15.0)\n",
            "Cloning into 'lib/dataset_devkit/panopticapi'...\n",
            "remote: Enumerating objects: 124, done.\u001b[K\n",
            "remote: Total 124 (delta 0), reused 0 (delta 0), pack-reused 124\u001b[K\n",
            "Receiving objects: 100% (124/124), 652.74 KiB | 904.00 KiB/s, done.\n",
            "Resolving deltas: 100% (64/64), done.\n",
            "running build_ext\n",
            "cythoning bbox.pyx to bbox.c\n",
            "/usr/local/lib/python3.6/dist-packages/Cython/Compiler/Main.py:369: FutureWarning: Cython directive 'language_level' not set, using 2 for now (Py2). This will change in a later release! File: /content/UPSNet/upsnet/bbox/bbox.pyx\n",
            "  tree = Parsing.p_module(s, pxd, full_module_name)\n",
            "building 'bbox' extension\n",
            "creating build\n",
            "creating build/temp.linux-x86_64-3.6\n",
            "x86_64-linux-gnu-gcc -pthread -DNDEBUG -g -fwrapv -O2 -Wall -g -fstack-protector-strong -Wformat -Werror=format-security -Wdate-time -D_FORTIFY_SOURCE=2 -fPIC -I/usr/local/lib/python3.6/dist-packages/numpy/core/include -I/usr/include/python3.6m -c bbox.c -o build/temp.linux-x86_64-3.6/bbox.o -Wno-cpp -Wno-unused-function\n",
            "x86_64-linux-gnu-gcc -pthread -shared -Wl,-O1 -Wl,-Bsymbolic-functions -Wl,-Bsymbolic-functions -Wl,-z,relro -Wl,-Bsymbolic-functions -Wl,-z,relro -g -fstack-protector-strong -Wformat -Werror=format-security -Wdate-time -D_FORTIFY_SOURCE=2 build/temp.linux-x86_64-3.6/bbox.o -o /content/UPSNet/upsnet/bbox/bbox.cpython-36m-x86_64-linux-gnu.so\n",
            "running build_ext\n",
            "cythoning anchors.pyx to anchors.c\n",
            "/usr/local/lib/python3.6/dist-packages/Cython/Compiler/Main.py:369: FutureWarning: Cython directive 'language_level' not set, using 2 for now (Py2). This will change in a later release! File: /content/UPSNet/upsnet/rpn/anchors.pyx\n",
            "  tree = Parsing.p_module(s, pxd, full_module_name)\n",
            "building 'anchors' extension\n",
            "creating build\n",
            "creating build/temp.linux-x86_64-3.6\n",
            "x86_64-linux-gnu-gcc -pthread -DNDEBUG -g -fwrapv -O2 -Wall -g -fstack-protector-strong -Wformat -Werror=format-security -Wdate-time -D_FORTIFY_SOURCE=2 -fPIC -I/usr/local/lib/python3.6/dist-packages/numpy/core/include -I/usr/include/python3.6m -c anchors.c -o build/temp.linux-x86_64-3.6/anchors.o -Wno-cpp -Wno-unused-function\n",
            "x86_64-linux-gnu-gcc -pthread -shared -Wl,-O1 -Wl,-Bsymbolic-functions -Wl,-Bsymbolic-functions -Wl,-z,relro -Wl,-Bsymbolic-functions -Wl,-z,relro -g -fstack-protector-strong -Wformat -Werror=format-security -Wdate-time -D_FORTIFY_SOURCE=2 build/temp.linux-x86_64-3.6/anchors.o -o /content/UPSNet/upsnet/rpn/anchors.cpython-36m-x86_64-linux-gnu.so\n",
            "running build_ext\n",
            "cythoning cpu_nms.pyx to cpu_nms.c\n",
            "/usr/local/lib/python3.6/dist-packages/Cython/Compiler/Main.py:369: FutureWarning: Cython directive 'language_level' not set, using 2 for now (Py2). This will change in a later release! File: /content/UPSNet/upsnet/nms/cpu_nms.pyx\n",
            "  tree = Parsing.p_module(s, pxd, full_module_name)\n",
            "cythoning gpu_nms.pyx to gpu_nms.cpp\n",
            "/usr/local/lib/python3.6/dist-packages/Cython/Compiler/Main.py:369: FutureWarning: Cython directive 'language_level' not set, using 2 for now (Py2). This will change in a later release! File: /content/UPSNet/upsnet/nms/gpu_nms.pyx\n",
            "  tree = Parsing.p_module(s, pxd, full_module_name)\n",
            "building 'cpu_nms' extension\n",
            "creating build\n",
            "creating build/temp.linux-x86_64-3.6\n",
            "x86_64-linux-gnu-gcc -pthread -DNDEBUG -g -fwrapv -O2 -Wall -g -fstack-protector-strong -Wformat -Werror=format-security -Wdate-time -D_FORTIFY_SOURCE=2 -fPIC -I/usr/local/lib/python3.6/dist-packages/numpy/core/include -I/usr/include/python3.6m -c cpu_nms.c -o build/temp.linux-x86_64-3.6/cpu_nms.o -Wno-cpp -Wno-unused-function\n",
            "x86_64-linux-gnu-gcc -pthread -shared -Wl,-O1 -Wl,-Bsymbolic-functions -Wl,-Bsymbolic-functions -Wl,-z,relro -Wl,-Bsymbolic-functions -Wl,-z,relro -g -fstack-protector-strong -Wformat -Werror=format-security -Wdate-time -D_FORTIFY_SOURCE=2 build/temp.linux-x86_64-3.6/cpu_nms.o -o /content/UPSNet/upsnet/nms/cpu_nms.cpython-36m-x86_64-linux-gnu.so\n",
            "building 'gpu_nms' extension\n",
            "/usr/local/cuda/bin/nvcc -I/usr/local/lib/python3.6/dist-packages/numpy/core/include -I/usr/local/cuda/include -I/usr/include/python3.6m -c nms_kernel.cu -o build/temp.linux-x86_64-3.6/nms_kernel.o -arch=sm_35 --ptxas-options=-v -c --compiler-options '-fPIC'\n",
            "ptxas info    : 0 bytes gmem\n",
            "ptxas info    : Compiling entry function '_Z10nms_kernelifPKfPy' for 'sm_35'\n",
            "ptxas info    : Function properties for _Z10nms_kernelifPKfPy\n",
            "    0 bytes stack frame, 0 bytes spill stores, 0 bytes spill loads\n",
            "ptxas info    : Used 22 registers, 1280 bytes smem, 344 bytes cmem[0], 16 bytes cmem[2]\n",
            "x86_64-linux-gnu-gcc -pthread -DNDEBUG -g -fwrapv -O2 -Wall -g -fstack-protector-strong -Wformat -Werror=format-security -Wdate-time -D_FORTIFY_SOURCE=2 -fPIC -I/usr/local/lib/python3.6/dist-packages/numpy/core/include -I/usr/local/cuda/include -I/usr/include/python3.6m -c gpu_nms.cpp -o build/temp.linux-x86_64-3.6/gpu_nms.o -Wno-unused-function\n",
            "In file included from \u001b[01m\u001b[K/usr/local/lib/python3.6/dist-packages/numpy/core/include/numpy/ndarraytypes.h:1832:0\u001b[m\u001b[K,\n",
            "                 from \u001b[01m\u001b[K/usr/local/lib/python3.6/dist-packages/numpy/core/include/numpy/ndarrayobject.h:12\u001b[m\u001b[K,\n",
            "                 from \u001b[01m\u001b[K/usr/local/lib/python3.6/dist-packages/numpy/core/include/numpy/arrayobject.h:4\u001b[m\u001b[K,\n",
            "                 from \u001b[01m\u001b[Kgpu_nms.cpp:624\u001b[m\u001b[K:\n",
            "\u001b[01m\u001b[K/usr/local/lib/python3.6/dist-packages/numpy/core/include/numpy/npy_1_7_deprecated_api.h:17:2:\u001b[m\u001b[K \u001b[01;35m\u001b[Kwarning: \u001b[m\u001b[K#warning \"Using deprecated NumPy API, disable it with \" \"#define NPY_NO_DEPRECATED_API NPY_1_7_API_VERSION\" [\u001b[01;35m\u001b[K-Wcpp\u001b[m\u001b[K]\n",
            " #\u001b[01;35m\u001b[Kwarning\u001b[m\u001b[K \"Using deprecated NumPy API, disable it with \" \\\n",
            "  \u001b[01;35m\u001b[K^~~~~~~\u001b[m\u001b[K\n",
            "x86_64-linux-gnu-g++ -pthread -shared -Wl,-O1 -Wl,-Bsymbolic-functions -Wl,-Bsymbolic-functions -Wl,-z,relro -Wl,-Bsymbolic-functions -Wl,-z,relro -g -fstack-protector-strong -Wformat -Werror=format-security -Wdate-time -D_FORTIFY_SOURCE=2 build/temp.linux-x86_64-3.6/nms_kernel.o build/temp.linux-x86_64-3.6/gpu_nms.o -L/usr/local/cuda/lib64 -Wl,--enable-new-dtags,-R/usr/local/cuda/lib64 -lcudart -o /content/UPSNet/upsnet/nms/gpu_nms.cpython-36m-x86_64-linux-gnu.so\n",
            "running build_ext\n",
            "building 'deform_conv_cuda' extension\n",
            "creating build\n",
            "creating build/temp.linux-x86_64-3.6\n",
            "creating build/temp.linux-x86_64-3.6/src\n",
            "x86_64-linux-gnu-gcc -pthread -DNDEBUG -g -fwrapv -O2 -Wall -g -fstack-protector-strong -Wformat -Werror=format-security -Wdate-time -D_FORTIFY_SOURCE=2 -fPIC -I/content/UPSNet/upsnet/operators/src -I/usr/local/lib/python3.6/dist-packages/torch/include -I/usr/local/lib/python3.6/dist-packages/torch/include/torch/csrc/api/include -I/usr/local/lib/python3.6/dist-packages/torch/include/TH -I/usr/local/lib/python3.6/dist-packages/torch/include/THC -I/usr/local/cuda/include -I/usr/include/python3.6m -c src/deform_conv_cuda.cpp -o build/temp.linux-x86_64-3.6/src/deform_conv_cuda.o -DTORCH_API_INCLUDE_EXTENSION_H -DTORCH_EXTENSION_NAME=deform_conv_cuda -D_GLIBCXX_USE_CXX11_ABI=0 -std=c++11\n",
            "/usr/local/cuda/bin/nvcc -I/content/UPSNet/upsnet/operators/src -I/usr/local/lib/python3.6/dist-packages/torch/include -I/usr/local/lib/python3.6/dist-packages/torch/include/torch/csrc/api/include -I/usr/local/lib/python3.6/dist-packages/torch/include/TH -I/usr/local/lib/python3.6/dist-packages/torch/include/THC -I/usr/local/cuda/include -I/usr/include/python3.6m -c src/deform_conv_kernel.cu -o build/temp.linux-x86_64-3.6/src/deform_conv_kernel.o -D__CUDA_NO_HALF_OPERATORS__ -D__CUDA_NO_HALF_CONVERSIONS__ -D__CUDA_NO_HALF2_OPERATORS__ --expt-relaxed-constexpr --compiler-options '-fPIC' -O2 -DTORCH_API_INCLUDE_EXTENSION_H -DTORCH_EXTENSION_NAME=deform_conv_cuda -D_GLIBCXX_USE_CXX11_ABI=0 -gencode=arch=compute_60,code=sm_60 -std=c++11\n",
            "creating build/lib.linux-x86_64-3.6\n",
            "x86_64-linux-gnu-g++ -pthread -shared -Wl,-O1 -Wl,-Bsymbolic-functions -Wl,-Bsymbolic-functions -Wl,-z,relro -Wl,-Bsymbolic-functions -Wl,-z,relro -g -fstack-protector-strong -Wformat -Werror=format-security -Wdate-time -D_FORTIFY_SOURCE=2 build/temp.linux-x86_64-3.6/src/deform_conv_cuda.o build/temp.linux-x86_64-3.6/src/deform_conv_kernel.o -L/usr/local/cuda/lib64 -lcudart -o build/lib.linux-x86_64-3.6/deform_conv_cuda.cpython-36m-x86_64-linux-gnu.so\n",
            "copying build/lib.linux-x86_64-3.6/deform_conv_cuda.cpython-36m-x86_64-linux-gnu.so -> \n",
            "running build_ext\n",
            "building 'roi_align_cuda' extension\n",
            "x86_64-linux-gnu-gcc -pthread -DNDEBUG -g -fwrapv -O2 -Wall -g -fstack-protector-strong -Wformat -Werror=format-security -Wdate-time -D_FORTIFY_SOURCE=2 -fPIC -I/content/UPSNet/upsnet/operators/src -I/usr/local/lib/python3.6/dist-packages/torch/include -I/usr/local/lib/python3.6/dist-packages/torch/include/torch/csrc/api/include -I/usr/local/lib/python3.6/dist-packages/torch/include/TH -I/usr/local/lib/python3.6/dist-packages/torch/include/THC -I/usr/local/cuda/include -I/usr/include/python3.6m -c src/roi_align_cuda.cpp -o build/temp.linux-x86_64-3.6/src/roi_align_cuda.o -DTORCH_API_INCLUDE_EXTENSION_H -DTORCH_EXTENSION_NAME=roi_align_cuda -D_GLIBCXX_USE_CXX11_ABI=0 -std=c++11\n",
            "\u001b[01m\u001b[Ksrc/roi_align_cuda.cpp:\u001b[m\u001b[K In function ‘\u001b[01m\u001b[Kint roi_align_forward_cuda(int, int, int, float, at::Tensor, at::Tensor, at::Tensor)\u001b[m\u001b[K’:\n",
            "\u001b[01m\u001b[Ksrc/roi_align_cuda.cpp:58:7:\u001b[m\u001b[K \u001b[01;35m\u001b[Kwarning: \u001b[m\u001b[Kunused variable ‘\u001b[01m\u001b[Kbatch_size\u001b[m\u001b[K’ [\u001b[01;35m\u001b[K-Wunused-variable\u001b[m\u001b[K]\n",
            "   int \u001b[01;35m\u001b[Kbatch_size\u001b[m\u001b[K = features.size(0);\n",
            "       \u001b[01;35m\u001b[K^~~~~~~~~~\u001b[m\u001b[K\n",
            "/usr/local/cuda/bin/nvcc -I/content/UPSNet/upsnet/operators/src -I/usr/local/lib/python3.6/dist-packages/torch/include -I/usr/local/lib/python3.6/dist-packages/torch/include/torch/csrc/api/include -I/usr/local/lib/python3.6/dist-packages/torch/include/TH -I/usr/local/lib/python3.6/dist-packages/torch/include/THC -I/usr/local/cuda/include -I/usr/include/python3.6m -c src/roi_align_kernel.cu -o build/temp.linux-x86_64-3.6/src/roi_align_kernel.o -D__CUDA_NO_HALF_OPERATORS__ -D__CUDA_NO_HALF_CONVERSIONS__ -D__CUDA_NO_HALF2_OPERATORS__ --expt-relaxed-constexpr --compiler-options '-fPIC' -O2 -DTORCH_API_INCLUDE_EXTENSION_H -DTORCH_EXTENSION_NAME=roi_align_cuda -D_GLIBCXX_USE_CXX11_ABI=0 -gencode=arch=compute_60,code=sm_60 -std=c++11\n",
            "x86_64-linux-gnu-g++ -pthread -shared -Wl,-O1 -Wl,-Bsymbolic-functions -Wl,-Bsymbolic-functions -Wl,-z,relro -Wl,-Bsymbolic-functions -Wl,-z,relro -g -fstack-protector-strong -Wformat -Werror=format-security -Wdate-time -D_FORTIFY_SOURCE=2 build/temp.linux-x86_64-3.6/src/roi_align_cuda.o build/temp.linux-x86_64-3.6/src/roi_align_kernel.o -L/usr/local/cuda/lib64 -lcudart -o build/lib.linux-x86_64-3.6/roi_align_cuda.cpython-36m-x86_64-linux-gnu.so\n",
            "copying build/lib.linux-x86_64-3.6/roi_align_cuda.cpython-36m-x86_64-linux-gnu.so -> \n"
          ],
          "name": "stdout"
        }
      ]
    },
    {
      "cell_type": "code",
      "metadata": {
        "id": "Nj2OVZ37VsFb",
        "colab": {
          "base_uri": "https://localhost:8080/"
        },
        "outputId": "9b3cd950-1435-4d25-f413-b55cbc9adae2"
      },
      "source": [
        "%cd '/content/'\n",
        "!ls"
      ],
      "execution_count": null,
      "outputs": [
        {
          "output_type": "stream",
          "text": [
            "/content\n",
            "gdrive\tsample_data  UPSNet\n"
          ],
          "name": "stdout"
        }
      ]
    },
    {
      "cell_type": "markdown",
      "metadata": {
        "id": "JnJwWYPbxdLp"
      },
      "source": [
        "Downloading dataset and moving it to GDrive - It takes 15 GB storage"
      ]
    },
    {
      "cell_type": "code",
      "metadata": {
        "id": "_wiMzKAKFxwn"
      },
      "source": [
        "!wget --keep-session-cookies --save-cookies=cookies.txt --post-data 'username=mishras@rhrk.uni-kl.de&password=Shami@1991&submit=Login' https://www.cityscapes-dataset.com/login/\n",
        "!wget --load-cookies cookies.txt --content-disposition https://www.cityscapes-dataset.com/file-handling/?packageID=1"
      ],
      "execution_count": null,
      "outputs": []
    },
    {
      "cell_type": "code",
      "metadata": {
        "id": "Scob3sIFWJjs"
      },
      "source": [
        "!wget --load-cookies cookies.txt --content-disposition https://www.cityscapes-dataset.com/file-handling/?packageID=2"
      ],
      "execution_count": null,
      "outputs": []
    },
    {
      "cell_type": "code",
      "metadata": {
        "id": "mpNkD5FvX93z"
      },
      "source": [
        "!wget --load-cookies cookies.txt --content-disposition https://www.cityscapes-dataset.com/file-handling/?packageID=3"
      ],
      "execution_count": null,
      "outputs": []
    },
    {
      "cell_type": "code",
      "metadata": {
        "id": "mOFf_-g_W9-l"
      },
      "source": [
        "!unzip gtCoarse.zip -d /content/gdrive/My\\ Drive/CITYSCAPES #CITYSCAPES"
      ],
      "execution_count": null,
      "outputs": []
    },
    {
      "cell_type": "code",
      "metadata": {
        "id": "d0e8dFssBEa-"
      },
      "source": [
        "!rm /content/gtCoarse.zip\n",
        "!rm /content/gdrive/My\\ Drive/CITYSCAPES/README #/content/CITYSCAPES/README\n",
        "!rm /content/gdrive/My\\ Drive/CITYSCAPES/license.txt #/content/CITYSCAPES/license.txt\n"
      ],
      "execution_count": null,
      "outputs": []
    },
    {
      "cell_type": "code",
      "metadata": {
        "id": "9YmCf3kgXR4z"
      },
      "source": [
        "!unzip gtFine_trainvaltest.zip -d /content/gdrive/My\\ Drive/CITYSCAPES #CITYSCAPES"
      ],
      "execution_count": null,
      "outputs": []
    },
    {
      "cell_type": "code",
      "metadata": {
        "id": "3mAVMMy0BF0n"
      },
      "source": [
        "!rm /content/gtFine_trainvaltest.zip\n",
        "!rm /content/gdrive/My\\ Drive/CITYSCAPES/README #/content/CITYSCAPES/README\n",
        "!rm /content/gdrive/My\\ Drive/CITYSCAPES/license.txt #/content/CITYSCAPES/license.txt"
      ],
      "execution_count": null,
      "outputs": []
    },
    {
      "cell_type": "code",
      "metadata": {
        "id": "CPCKw_h2cPPm"
      },
      "source": [
        "!unzip leftImg8bit_trainvaltest.zip -d /content/gdrive/My\\ Drive/CITYSCAPES #CITYSCAPES"
      ],
      "execution_count": null,
      "outputs": []
    },
    {
      "cell_type": "code",
      "metadata": {
        "id": "68HnTLThBHZU"
      },
      "source": [
        "!rm /content/leftImg8bit_trainvaltest.zip"
      ],
      "execution_count": null,
      "outputs": []
    },
    {
      "cell_type": "markdown",
      "metadata": {
        "id": "vuXEgzSseTuv"
      },
      "source": [
        "Deleteing few folders to save space - But this will need update in the annotation file; so try to avoid it."
      ]
    },
    {
      "cell_type": "code",
      "metadata": {
        "id": "K-M9mxxWeSdM"
      },
      "source": [
        "!rm -rf /content/CITYSCAPES/leftImg8bit/train/zurich\n",
        "!rm -rf /content/CITYSCAPES/leftImg8bit/train/weimar\n",
        "!rm -rf /content/CITYSCAPES/leftImg8bit/train/ulm\n",
        "!rm -rf /content/CITYSCAPES/leftImg8bit/train/tubingen\n",
        "!rm -rf /content/CITYSCAPES/leftImg8bit/train/stuttgart\n",
        "!rm -rf /content/CITYSCAPES/leftImg8bit/train/strasbourg\n",
        "!rm -rf /content/CITYSCAPES/leftImg8bit/train/monchengladbach\n",
        "!rm -rf /content/CITYSCAPES/leftImg8bit/train/krefeld\n",
        "!rm -rf /content/CITYSCAPES/leftImg8bit/train/jena\n",
        "!rm -rf /content/CITYSCAPES/leftImg8bit/train/hanover\n",
        "!rm -rf /content/CITYSCAPES/leftImg8bit/train/hamburg\n",
        "!rm -rf /content/CITYSCAPES/leftImg8bit/train/erfurt\n",
        "!rm -rf /content/CITYSCAPES/leftImg8bit/train/dusseldorf\n",
        "!rm -rf /content/CITYSCAPES/leftImg8bit/train/darmstadt\n",
        "!rm -rf /content/CITYSCAPES/leftImg8bit/train/cologne\n",
        "!rm -rf /content/CITYSCAPES/leftImg8bit/train/bremen\n",
        "\n",
        "!rm -rf /content/CITYSCAPES/gtFine/train/zurich\n",
        "!rm -rf /content/CITYSCAPES/gtFine/train/weimar\n",
        "!rm -rf /content/CITYSCAPES/gtFine/train/ulm\n",
        "!rm -rf /content/CITYSCAPES/gtFine/train/tubingen\n",
        "!rm -rf /content/CITYSCAPES/gtFine/train/stuttgart\n",
        "!rm -rf /content/CITYSCAPES/gtFine/train/strasbourg\n",
        "!rm -rf /content/CITYSCAPES/gtFine/train/monchengladbach\n",
        "!rm -rf /content/CITYSCAPES/gtFine/train/krefeld\n",
        "!rm -rf /content/CITYSCAPES/gtFine/train/jena\n",
        "!rm -rf /content/CITYSCAPES/gtFine/train/hanover\n",
        "!rm -rf /content/CITYSCAPES/gtFine/train/hamburg\n",
        "!rm -rf /content/CITYSCAPES/gtFine/train/erfurt\n",
        "!rm -rf /content/CITYSCAPES/gtFine/train/dusseldorf\n",
        "!rm -rf /content/CITYSCAPES/gtFine/train/darmstadt\n",
        "!rm -rf /content/CITYSCAPES/gtFine/train/cologne\n",
        "!rm -rf /content/CITYSCAPES/gtFine/train/bremen\n",
        "\n",
        "\n",
        "!rm -rf /content/CITYSCAPES/gtCoarse/train/zurich\n",
        "!rm -rf /content/CITYSCAPES/gtCoarse/train/weimar\n",
        "!rm -rf /content/CITYSCAPES/gtCoarse/train/ulm\n",
        "!rm -rf /content/CITYSCAPES/gtCoarse/train/tubingen\n",
        "!rm -rf /content/CITYSCAPES/gtCoarse/train/stuttgart\n",
        "!rm -rf /content/CITYSCAPES/gtCoarse/train/strasbourg\n",
        "!rm -rf /content/CITYSCAPES/gtCoarse/train/monchengladbach\n",
        "!rm -rf /content/CITYSCAPES/gtCoarse/train/krefeld\n",
        "!rm -rf /content/CITYSCAPES/gtCoarse/train/jena\n",
        "!rm -rf /content/CITYSCAPES/gtCoarse/train/hanover\n",
        "!rm -rf /content/CITYSCAPES/gtCoarse/train/hamburg\n",
        "!rm -rf /content/CITYSCAPES/gtCoarse/train/erfurt\n",
        "!rm -rf /content/CITYSCAPES/gtCoarse/train/dusseldorf\n",
        "!rm -rf /content/CITYSCAPES/gtCoarse/train/darmstadt\n",
        "!rm -rf /content/CITYSCAPES/gtCoarse/train/cologne\n",
        "!rm -rf /content/CITYSCAPES/gtCoarse/train/bremen\n",
        "\n",
        "\n",
        "!rm -rf /content/CITYSCAPES/gtCoarse/train_extra/wurzburg\n",
        "!rm -rf /content/CITYSCAPES/gtCoarse/train_extra/wuppertal\n",
        "!rm -rf /content/CITYSCAPES/gtCoarse/train_extra/troisdorf\n",
        "!rm -rf /content/CITYSCAPES/gtCoarse/train_extra/schweinfurt\n",
        "!rm -rf /content/CITYSCAPES/gtCoarse/train_extra/saarbrucken\n",
        "!rm -rf /content/CITYSCAPES/gtCoarse/train_extra/oberhausen\n",
        "!rm -rf /content/CITYSCAPES/gtCoarse/train_extra/nuremberg\n",
        "!rm -rf /content/CITYSCAPES/gtCoarse/train_extra/muhlheim-ruhr\n",
        "!rm -rf /content/CITYSCAPES/gtCoarse/train_extra/mannheim\n",
        "!rm -rf /content/CITYSCAPES/gtCoarse/train_extra/konstanz\n",
        "!rm -rf /content/CITYSCAPES/gtCoarse/train_extra/konigswinter\n",
        "!rm -rf /content/CITYSCAPES/gtCoarse/train_extra/karlsruhe\n",
        "!rm -rf /content/CITYSCAPES/gtCoarse/train_extra/heilbronn\n",
        "!rm -rf /content/CITYSCAPES/gtCoarse/train_extra/heidelberg\n",
        "!rm -rf /content/CITYSCAPES/gtCoarse/train_extra/freiburg\n",
        "!rm -rf /content/CITYSCAPES/gtCoarse/train_extra/erlangen\n",
        "!rm -rf /content/CITYSCAPES/gtCoarse/train_extra/duisburg\n",
        "!rm -rf /content/CITYSCAPES/gtCoarse/train_extra/dresden\n",
        "!rm -rf /content/CITYSCAPES/gtCoarse/train_extra/dortmund\n",
        "!rm -rf /content/CITYSCAPES/gtCoarse/train_extra/bayreuth\n",
        "!rm -rf /content/CITYSCAPES/gtCoarse/train_extra/bamberg"
      ],
      "execution_count": null,
      "outputs": []
    },
    {
      "cell_type": "code",
      "metadata": {
        "id": "SYgHbz5ig5Dz"
      },
      "source": [
        "!rm -rf /content/CITYSCAPES/leftImg8bit/test/mainz\n",
        "!rm -rf /content/CITYSCAPES/leftImg8bit/test/leverkusen\n",
        "!rm -rf /content/CITYSCAPES/leftImg8bit/test/munich\n",
        "!rm -rf /content/CITYSCAPES/leftImg8bit/test/bonn\n",
        "!rm -rf /content/CITYSCAPES/leftImg8bit/test/bielefeld\n",
        "\n",
        "!rm -rf /content/CITYSCAPES/gtFine/test/mainz\n",
        "!rm -rf /content/CITYSCAPES/gtFine/test/leverkusen\n",
        "!rm -rf /content/CITYSCAPES/gtFine/test/munich\n",
        "!rm -rf /content/CITYSCAPES/gtFine/test/bonn\n",
        "!rm -rf /content/CITYSCAPES/gtFine/test/bielefeld\n"
      ],
      "execution_count": null,
      "outputs": []
    },
    {
      "cell_type": "code",
      "metadata": {
        "id": "OietiPFBpCH-"
      },
      "source": [
        "!rm -rf /content/CITYSCAPES/leftImg8bit/val/munster\n",
        "!rm -rf /content/CITYSCAPES/leftImg8bit/val/lindau\n",
        "\n",
        "!rm -rf /content/CITYSCAPES/gtFine/val/munster\n",
        "!rm -rf /content/CITYSCAPES/gtFine/val/lindau\n",
        "\n",
        "!rm -rf /content/CITYSCAPES/gtCoarse/val/munster\n",
        "!rm -rf /content/CITYSCAPES/gtCoarse/val/lindau"
      ],
      "execution_count": null,
      "outputs": []
    },
    {
      "cell_type": "markdown",
      "metadata": {
        "id": "nI2oO3R-d03V"
      },
      "source": [
        "Train ID Label Image Generation - Run this once. It will save the files on GDrive; later directly use them."
      ]
    },
    {
      "cell_type": "code",
      "metadata": {
        "id": "8gmtgNk-dsll"
      },
      "source": [
        "from __future__ import print_function, absolute_import, division\n",
        "import os, glob, sys\n",
        "\n",
        "# cityscapes imports\n",
        "from cityscapesscripts.helpers.csHelpers import printError\n",
        "from cityscapesscripts.preparation.json2labelImg import json2labelImg\n",
        "\n",
        "# The main method\n",
        "def main():\n",
        "    # Where to look for Cityscapes\n",
        "    if 'CITYSCAPES_DATASET' in os.environ:\n",
        "        cityscapesPath = os.environ['CITYSCAPES_DATASET']\n",
        "    else:\n",
        "        cityscapesPath = '/content/gdrive/My Drive/CITYSCAPES' #os.path.join(os.path.dirname(os.path.realpath(__file__)),'..','..')\n",
        "    # how to search for all ground truth\n",
        "    searchFine   = os.path.join( cityscapesPath , \"gtFine\"   , \"*\" , \"*\" , \"*_gt*_polygons.json\" )\n",
        "    searchCoarse = os.path.join( cityscapesPath , \"gtCoarse\" , \"*\" , \"*\" , \"*_gt*_polygons.json\" )\n",
        "\n",
        "    # search files\n",
        "    filesFine = glob.glob( searchFine )\n",
        "    filesFine.sort()\n",
        "    filesCoarse = glob.glob( searchCoarse )\n",
        "    filesCoarse.sort()\n",
        "\n",
        "    # concatenate fine and coarse\n",
        "    files = filesFine + filesCoarse\n",
        "    # files = filesFine # use this line if fine is enough for now.\n",
        "\n",
        "    # quit if we did not find anything\n",
        "    if not files:\n",
        "        printError( \"Did not find any files. Please consult the README.\" )\n",
        "\n",
        "    # a bit verbose\n",
        "    print(\"Processing {} annotation files\".format(len(files)))\n",
        "\n",
        "    # iterate through files\n",
        "    progress = 0\n",
        "    print(\"Progress: {:>3} %\".format( progress * 100 / len(files) ), end=' ')\n",
        "    for f in files:\n",
        "        # create the output filename\n",
        "        dst = f.replace( \"_polygons.json\" , \"_labelTrainIds.png\" )\n",
        "\n",
        "        # do the conversion\n",
        "        try:\n",
        "            json2labelImg( f , dst , \"trainIds\" )\n",
        "        except:\n",
        "            print(\"Failed to convert: {}\".format(f))\n",
        "            raise\n",
        "\n",
        "        # status\n",
        "        progress += 1\n",
        "        print(\"\\rProgress: {:>3} %\".format( progress * 100 / len(files) ), end=' ')\n",
        "        sys.stdout.flush()\n",
        "\n",
        "\n",
        "# call the main\n",
        "if __name__ == \"__main__\":\n",
        "    main()"
      ],
      "execution_count": null,
      "outputs": []
    },
    {
      "cell_type": "code",
      "metadata": {
        "id": "D1tNJB46kkls",
        "colab": {
          "base_uri": "https://localhost:8080/"
        },
        "outputId": "928fb15d-8829-46e0-cae0-3c21ff21eb0f"
      },
      "source": [
        "%cd '/content/UPSNet/'\n",
        "!ls"
      ],
      "execution_count": null,
      "outputs": [
        {
          "output_type": "stream",
          "text": [
            "/content/UPSNet\n",
            "download_weights.sh  init_coco.py  init.sh  LICENSE  NOTICE\tupsnet\n",
            "init_cityscapes.sh   init_coco.sh  lib\t    model    README.md\n"
          ],
          "name": "stdout"
        }
      ]
    },
    {
      "cell_type": "markdown",
      "metadata": {
        "id": "u6wy_E8Syofq"
      },
      "source": [
        "Initialize the cityscapes - it will copy the reqruied dataset image files to local folder."
      ]
    },
    {
      "cell_type": "code",
      "metadata": {
        "id": "-fGU8DzKk9Ll",
        "colab": {
          "base_uri": "https://localhost:8080/"
        },
        "outputId": "a5887fba-75c8-4a4d-b55a-a8dbb2888890"
      },
      "source": [
        "!./init_cityscapes.sh"
      ],
      "execution_count": null,
      "outputs": [
        {
          "output_type": "stream",
          "text": [
            "Cloning into 'lib/dataset_devkit/cityscapesScripts'...\n",
            "remote: Enumerating objects: 35, done.\u001b[K\n",
            "remote: Counting objects: 100% (35/35), done.\u001b[K\n",
            "remote: Compressing objects: 100% (19/19), done.\u001b[K\n",
            "remote: Total 609 (delta 19), reused 25 (delta 14), pack-reused 574\u001b[K\n",
            "Receiving objects: 100% (609/609), 824.90 KiB | 1.11 MiB/s, done.\n",
            "Resolving deltas: 100% (331/331), done.\n",
            "  % Total    % Received % Xferd  Average Speed   Time    Time     Time  Current\n",
            "                                 Dload  Upload   Total   Spent    Left  Speed\n",
            "100  180M  100  180M    0     0  18.2M      0  0:00:09  0:00:09 --:--:-- 21.5M\n",
            "  % Total    % Received % Xferd  Average Speed   Time    Time     Time  Current\n",
            "                                 Dload  Upload   Total   Spent    Left  Speed\n",
            "100 34.1M  100 34.1M    0     0  11.4M      0  0:00:02  0:00:02 --:--:-- 11.4M\n",
            "  % Total    % Received % Xferd  Average Speed   Time    Time     Time  Current\n",
            "                                 Dload  Upload   Total   Spent    Left  Speed\n",
            "100 1431k  100 1431k    0     0  1134k      0  0:00:01  0:00:01 --:--:-- 1134k\n",
            "cp: cannot stat 'leftImg8bit/*/*/*.png': No such file or directory\n",
            "cp: cannot stat 'gtFine/*/*/*labelTrainIds.png': No such file or directory\n",
            "  % Total    % Received % Xferd  Average Speed   Time    Time     Time  Current\n",
            "                                 Dload  Upload   Total   Spent    Left  Speed\n",
            "100 76.1M  100 76.1M    0     0  15.7M      0  0:00:04  0:00:04 --:--:-- 18.2M\n"
          ],
          "name": "stdout"
        }
      ]
    },
    {
      "cell_type": "code",
      "metadata": {
        "id": "oosNYAiUqvFO",
        "colab": {
          "base_uri": "https://localhost:8080/"
        },
        "outputId": "fd0e2484-c630-41f8-90d2-f56397dd5767"
      },
      "source": [
        "%cd '/content/UPSNet/data/cityscapes'\n",
        "!ls"
      ],
      "execution_count": null,
      "outputs": [
        {
          "output_type": "stream",
          "text": [
            "/content/UPSNet/data/cityscapes\n",
            "annotations  images  labels  panoptic  panoptic.zip\n"
          ],
          "name": "stdout"
        }
      ]
    },
    {
      "cell_type": "code",
      "metadata": {
        "id": "Jn7oS0MvYyMv"
      },
      "source": [
        "!ln -s /content/gdrive/My\\ Drive/CITYSCAPES /content/UPSNet/data/cityscapes"
      ],
      "execution_count": null,
      "outputs": []
    },
    {
      "cell_type": "code",
      "metadata": {
        "id": "-Y-t1lqFlIbF"
      },
      "source": [
        "!cp /content/UPSNet/data/cityscapes/CITYSCAPES/leftImg8bit/*/*/*.png /content/UPSNet/data/cityscapes/images"
      ],
      "execution_count": null,
      "outputs": []
    },
    {
      "cell_type": "code",
      "metadata": {
        "id": "0jBunCEsmSgU"
      },
      "source": [
        "!cp /content/UPSNet/data/cityscapes/CITYSCAPES/gtFine/*/*/*labelTrainIds.png /content/UPSNet/data/cityscapes/labels"
      ],
      "execution_count": null,
      "outputs": []
    },
    {
      "cell_type": "code",
      "metadata": {
        "id": "dsRMhVNNno8M",
        "colab": {
          "base_uri": "https://localhost:8080/"
        },
        "outputId": "8fe3dbb4-15d8-44ae-a4f9-038e38493af8"
      },
      "source": [
        "%cd '/content/UPSNet'\n",
        "!ls"
      ],
      "execution_count": null,
      "outputs": [
        {
          "output_type": "stream",
          "text": [
            "/content/UPSNet\n",
            "data\t\t     init_coco.py  lib\t    NOTICE     upsnet\n",
            "download_weights.sh  init_coco.sh  LICENSE  output\n",
            "init_cityscapes.sh   init.sh\t   model    README.md\n"
          ],
          "name": "stdout"
        }
      ]
    },
    {
      "cell_type": "markdown",
      "metadata": {
        "id": "a6mggBx4yxyu"
      },
      "source": [
        "Training the model. Colab won;t allow running a notebook more than 8-12 hours. so use the snapshot suntionality. Keep saving the snapshot of models and start next iteration from previous model onwards."
      ]
    },
    {
      "cell_type": "code",
      "metadata": {
        "id": "Z4eatTHcnI4R"
      },
      "source": [
        "!python upsnet/upsnet_end2end_train.py --cfg upsnet/experiments/upsnet_resnet50_cityscapes_4gpu.yaml"
      ],
      "execution_count": null,
      "outputs": []
    },
    {
      "cell_type": "markdown",
      "metadata": {
        "id": "xUVZzm2VzLU9"
      },
      "source": [
        "Direct softlink of dataset folders is needed for traning."
      ]
    },
    {
      "cell_type": "code",
      "metadata": {
        "id": "uz4C8QnUFfF4"
      },
      "source": [
        "!ln -s /content/gdrive/My\\ Drive/CITYSCAPES/gtCoarse /content/UPSNet/data/cityscapes/gtCoarse\n",
        "!ln -s /content/gdrive/My\\ Drive/CITYSCAPES/gtFine /content/UPSNet/data/cityscapes/gtFine\n",
        "!ln -s /content/gdrive/My\\ Drive/CITYSCAPES/leftImg8bit /content/UPSNet/data/cityscapes/leftImg8bit"
      ],
      "execution_count": null,
      "outputs": []
    },
    {
      "cell_type": "markdown",
      "metadata": {
        "id": "nWWYprUNzPt1"
      },
      "source": [
        "Test on the trained model. This take huge amount of memory so colab may crash many times."
      ]
    },
    {
      "cell_type": "code",
      "metadata": {
        "id": "7cKE5v7h8sMR",
        "colab": {
          "base_uri": "https://localhost:8080/"
        },
        "outputId": "d83bfd2b-4be7-4197-d9da-8bb18ad2452f"
      },
      "source": [
        "!python upsnet/upsnet_end2end_test.py --cfg upsnet/experiments/upsnet_resnet50_cityscapes_4gpu.yaml"
      ],
      "execution_count": null,
      "outputs": [
        {
          "output_type": "stream",
          "text": [
            "{'dataset': {'dataset': 'Cityscapes',\n",
            "             'dataset_path': './data/cityscapes/',\n",
            "             'image_set': 'train',\n",
            "             'num_classes': 9,\n",
            "             'num_seg_classes': 19,\n",
            "             'root_path': './data/',\n",
            "             'test_image_set': 'val'},\n",
            " 'debug_mode': False,\n",
            " 'gpus': '0',\n",
            " 'model_prefix': 'upsnet_resnet_50_cityscapes_',\n",
            " 'network': {'anchor_ratios': [0.5, 1, 2],\n",
            "             'anchor_scales': [8],\n",
            "             'backbone_fix_bn': True,\n",
            "             'backbone_freeze_at': 2,\n",
            "             'backbone_with_dconv': 100,\n",
            "             'backbone_with_dilation': False,\n",
            "             'backbone_with_dpyramid': False,\n",
            "             'bbox_reg_weights': [10.0, 10.0, 5.0, 5.0],\n",
            "             'binary_thresh': 0.5,\n",
            "             'cls_agnostic_bbox_reg': False,\n",
            "             'fcn_head': 'FCNHead',\n",
            "             'fcn_num_layers': 2,\n",
            "             'fcn_with_norm': 'none',\n",
            "             'fpn_feature_dim': 256,\n",
            "             'fpn_upsample_method': 'nearest',\n",
            "             'fpn_with_gap': False,\n",
            "             'fpn_with_norm': 'none',\n",
            "             'has_fcn_head': True,\n",
            "             'has_fpn': True,\n",
            "             'has_mask_head': True,\n",
            "             'has_mask_rcnn': True,\n",
            "             'has_panoptic_head': True,\n",
            "             'has_rcnn': True,\n",
            "             'has_rpn': True,\n",
            "             'mask_size': 28,\n",
            "             'num_anchors': 3,\n",
            "             'pixel_means': array([102.9801, 115.9465, 122.7717]),\n",
            "             'pretrained': './model/pretrained_model/resnet-50-caffe.pth',\n",
            "             'rcnn_feat_stride': 32,\n",
            "             'rcnn_with_norm': 'none',\n",
            "             'rpn_feat_stride': [4, 8, 16, 32, 64],\n",
            "             'rpn_with_norm': 'none',\n",
            "             'use_caffe_model': True,\n",
            "             'use_syncbn': False},\n",
            " 'output_path': './output/upsnet/cityscapes',\n",
            " 'symbol': 'resnet_50_upsnet',\n",
            " 'test': {'batch_size': 1,\n",
            "          'max_det': 100,\n",
            "          'max_size': 2048,\n",
            "          'nms_thresh': 0.5,\n",
            "          'panoptic_score_thresh': 0.6,\n",
            "          'panoptic_stuff_area_limit': 2048,\n",
            "          'rpn_min_size': 0,\n",
            "          'rpn_nms_thresh': 0.7,\n",
            "          'rpn_post_nms_top_n': 1000,\n",
            "          'rpn_pre_nms_top_n': 1000,\n",
            "          'scales': [1024],\n",
            "          'score_thresh': 0.05,\n",
            "          'test_iteration': 48000,\n",
            "          'vis_mask': False},\n",
            " 'train': {'batch_rois': 512,\n",
            "           'batch_size': 1,\n",
            "           'bbox_loss_weight': 1.0,\n",
            "           'bbox_means': [0.0, 0.0, 0.0, 0.0],\n",
            "           'bbox_normalization_precomputed': True,\n",
            "           'bbox_regression_thresh': 0.5,\n",
            "           'bbox_stds': [0.1, 0.1, 0.2, 0.2],\n",
            "           'bbox_thresh': 0.5,\n",
            "           'bbox_weights': array([1., 1., 1., 1.]),\n",
            "           'begin_iteration': 42000,\n",
            "           'bg_thresh_hi': 0.5,\n",
            "           'bg_thresh_lo': 0.0,\n",
            "           'crowd_filter_thresh': 0.7,\n",
            "           'decay_iteration': [36000],\n",
            "           'display_iter': 20,\n",
            "           'eval_data': True,\n",
            "           'fcn_focal_loss_gamma': 1.0,\n",
            "           'fcn_loss_weight': 1,\n",
            "           'fcn_use_focal_loss': False,\n",
            "           'fcn_with_negative_loss': False,\n",
            "           'fcn_with_roi_loss': False,\n",
            "           'fg_fraction': 0.25,\n",
            "           'fg_thresh': 0.5,\n",
            "           'flip': True,\n",
            "           'gt_min_area': -1,\n",
            "           'lr': 0.005,\n",
            "           'lr_schedule': 'step',\n",
            "           'max_iteration': 48000,\n",
            "           'max_size': 2048,\n",
            "           'momentum': 0.9,\n",
            "           'panoptic_box_keep_fraction': 0.7,\n",
            "           'panoptic_focal_loss_gamma': 1.0,\n",
            "           'panoptic_loss_weight': 0.5,\n",
            "           'panoptic_use_focal_loss': False,\n",
            "           'panoptic_with_roi_loss': False,\n",
            "           'resume': True,\n",
            "           'rpn_batch_size': 256,\n",
            "           'rpn_bbox_weights': [1.0, 1.0, 1.0, 1.0],\n",
            "           'rpn_clobber_positive': False,\n",
            "           'rpn_fg_fraction': 0.5,\n",
            "           'rpn_individual_proposals': True,\n",
            "           'rpn_min_size': 0,\n",
            "           'rpn_negative_overlap': 0.3,\n",
            "           'rpn_nms_thresh': 0.7,\n",
            "           'rpn_positive_overlap': 0.7,\n",
            "           'rpn_positive_weight': -1.0,\n",
            "           'rpn_post_nms_top_n': 2000,\n",
            "           'rpn_pre_nms_top_n': 2000,\n",
            "           'rpn_straddle_thresh': 0,\n",
            "           'scales': [800, 832, 864, 896, 928, 960, 992, 1024],\n",
            "           'shuffle': True,\n",
            "           'snapshot_step': 1000,\n",
            "           'use_horovod': False,\n",
            "           'warmup_iteration': 1500,\n",
            "           'wd': 0.0001}}\n",
            "2020-11-16 22:06:19,128 | upsnet_end2end_test.py | line 161: test config:{'dataset': {'dataset': 'Cityscapes',\n",
            "             'dataset_path': './data/cityscapes/',\n",
            "             'image_set': 'train',\n",
            "             'num_classes': 9,\n",
            "             'num_seg_classes': 19,\n",
            "             'root_path': './data/',\n",
            "             'test_image_set': 'val'},\n",
            " 'debug_mode': False,\n",
            " 'gpus': '0',\n",
            " 'model_prefix': 'upsnet_resnet_50_cityscapes_',\n",
            " 'network': {'anchor_ratios': [0.5, 1, 2],\n",
            "             'anchor_scales': [8],\n",
            "             'backbone_fix_bn': True,\n",
            "             'backbone_freeze_at': 2,\n",
            "             'backbone_with_dconv': 100,\n",
            "             'backbone_with_dilation': False,\n",
            "             'backbone_with_dpyramid': False,\n",
            "             'bbox_reg_weights': [10.0, 10.0, 5.0, 5.0],\n",
            "             'binary_thresh': 0.5,\n",
            "             'cls_agnostic_bbox_reg': False,\n",
            "             'fcn_head': 'FCNHead',\n",
            "             'fcn_num_layers': 2,\n",
            "             'fcn_with_norm': 'none',\n",
            "             'fpn_feature_dim': 256,\n",
            "             'fpn_upsample_method': 'nearest',\n",
            "             'fpn_with_gap': False,\n",
            "             'fpn_with_norm': 'none',\n",
            "             'has_fcn_head': True,\n",
            "             'has_fpn': True,\n",
            "             'has_mask_head': True,\n",
            "             'has_mask_rcnn': True,\n",
            "             'has_panoptic_head': True,\n",
            "             'has_rcnn': True,\n",
            "             'has_rpn': True,\n",
            "             'mask_size': 28,\n",
            "             'num_anchors': 3,\n",
            "             'pixel_means': array([102.9801, 115.9465, 122.7717]),\n",
            "             'pretrained': './model/pretrained_model/resnet-50-caffe.pth',\n",
            "             'rcnn_feat_stride': 32,\n",
            "             'rcnn_with_norm': 'none',\n",
            "             'rpn_feat_stride': [4, 8, 16, 32, 64],\n",
            "             'rpn_with_norm': 'none',\n",
            "             'use_caffe_model': True,\n",
            "             'use_syncbn': False},\n",
            " 'output_path': './output/upsnet/cityscapes',\n",
            " 'symbol': 'resnet_50_upsnet',\n",
            " 'test': {'batch_size': 1,\n",
            "          'max_det': 100,\n",
            "          'max_size': 2048,\n",
            "          'nms_thresh': 0.5,\n",
            "          'panoptic_score_thresh': 0.6,\n",
            "          'panoptic_stuff_area_limit': 2048,\n",
            "          'rpn_min_size': 0,\n",
            "          'rpn_nms_thresh': 0.7,\n",
            "          'rpn_post_nms_top_n': 1000,\n",
            "          'rpn_pre_nms_top_n': 1000,\n",
            "          'scales': [1024],\n",
            "          'score_thresh': 0.05,\n",
            "          'test_iteration': 48000,\n",
            "          'vis_mask': False},\n",
            " 'train': {'batch_rois': 512,\n",
            "           'batch_size': 1,\n",
            "           'bbox_loss_weight': 1.0,\n",
            "           'bbox_means': [0.0, 0.0, 0.0, 0.0],\n",
            "           'bbox_normalization_precomputed': True,\n",
            "           'bbox_regression_thresh': 0.5,\n",
            "           'bbox_stds': [0.1, 0.1, 0.2, 0.2],\n",
            "           'bbox_thresh': 0.5,\n",
            "           'bbox_weights': array([1., 1., 1., 1.]),\n",
            "           'begin_iteration': 42000,\n",
            "           'bg_thresh_hi': 0.5,\n",
            "           'bg_thresh_lo': 0.0,\n",
            "           'crowd_filter_thresh': 0.7,\n",
            "           'decay_iteration': [36000],\n",
            "           'display_iter': 20,\n",
            "           'eval_data': True,\n",
            "           'fcn_focal_loss_gamma': 1.0,\n",
            "           'fcn_loss_weight': 1,\n",
            "           'fcn_use_focal_loss': False,\n",
            "           'fcn_with_negative_loss': False,\n",
            "           'fcn_with_roi_loss': False,\n",
            "           'fg_fraction': 0.25,\n",
            "           'fg_thresh': 0.5,\n",
            "           'flip': True,\n",
            "           'gt_min_area': -1,\n",
            "           'lr': 0.005,\n",
            "           'lr_schedule': 'step',\n",
            "           'max_iteration': 48000,\n",
            "           'max_size': 2048,\n",
            "           'momentum': 0.9,\n",
            "           'panoptic_box_keep_fraction': 0.7,\n",
            "           'panoptic_focal_loss_gamma': 1.0,\n",
            "           'panoptic_loss_weight': 0.5,\n",
            "           'panoptic_use_focal_loss': False,\n",
            "           'panoptic_with_roi_loss': False,\n",
            "           'resume': True,\n",
            "           'rpn_batch_size': 256,\n",
            "           'rpn_bbox_weights': [1.0, 1.0, 1.0, 1.0],\n",
            "           'rpn_clobber_positive': False,\n",
            "           'rpn_fg_fraction': 0.5,\n",
            "           'rpn_individual_proposals': True,\n",
            "           'rpn_min_size': 0,\n",
            "           'rpn_negative_overlap': 0.3,\n",
            "           'rpn_nms_thresh': 0.7,\n",
            "           'rpn_positive_overlap': 0.7,\n",
            "           'rpn_positive_weight': -1.0,\n",
            "           'rpn_post_nms_top_n': 2000,\n",
            "           'rpn_pre_nms_top_n': 2000,\n",
            "           'rpn_straddle_thresh': 0,\n",
            "           'scales': [800, 832, 864, 896, 928, 960, 992, 1024],\n",
            "           'shuffle': True,\n",
            "           'snapshot_step': 1000,\n",
            "           'use_horovod': False,\n",
            "           'warmup_iteration': 1500,\n",
            "           'wd': 0.0001}}\n",
            "\n",
            "2020-11-16 22:06:29,006 | json_dataset.py | line 63 : Creating: cityscapes_val\n",
            "loading annotations into memory...\n",
            "Done (t=1.68s)\n",
            "creating index...\n",
            "index created!\n",
            "2020-11-16 22:06:36,459 | upsnet_end2end_test.py | line 277: Batch 1/500, data_time:0.310, net_time:0.000, post_time:0.288\n",
            "2020-11-16 22:06:37,232 | upsnet_end2end_test.py | line 277: Batch 2/500, data_time:0.217, net_time:0.000, post_time:0.345\n",
            "2020-11-16 22:06:37,874 | upsnet_end2end_test.py | line 277: Batch 3/500, data_time:0.185, net_time:0.000, post_time:0.323\n",
            "2020-11-16 22:06:39,102 | upsnet_end2end_test.py | line 277: Batch 4/500, data_time:0.169, net_time:0.000, post_time:0.453\n",
            "2020-11-16 22:06:40,175 | upsnet_end2end_test.py | line 277: Batch 5/500, data_time:0.161, net_time:0.000, post_time:0.501\n",
            "2020-11-16 22:06:41,038 | upsnet_end2end_test.py | line 277: Batch 6/500, data_time:0.156, net_time:0.000, post_time:0.499\n",
            "2020-11-16 22:06:42,136 | upsnet_end2end_test.py | line 277: Batch 7/500, data_time:0.152, net_time:0.000, post_time:0.530\n",
            "2020-11-16 22:06:43,069 | upsnet_end2end_test.py | line 277: Batch 8/500, data_time:0.150, net_time:0.000, post_time:0.533\n",
            "2020-11-16 22:06:43,810 | upsnet_end2end_test.py | line 277: Batch 9/500, data_time:0.147, net_time:0.000, post_time:0.515\n",
            "2020-11-16 22:06:44,500 | upsnet_end2end_test.py | line 277: Batch 10/500, data_time:0.148, net_time:0.000, post_time:0.494\n",
            "2020-11-16 22:06:45,213 | upsnet_end2end_test.py | line 277: Batch 11/500, data_time:0.146, net_time:0.228, post_time:0.480\n",
            "2020-11-16 22:06:45,962 | upsnet_end2end_test.py | line 277: Batch 12/500, data_time:0.144, net_time:0.231, post_time:0.472\n",
            "2020-11-16 22:06:46,637 | upsnet_end2end_test.py | line 277: Batch 13/500, data_time:0.143, net_time:0.230, post_time:0.460\n",
            "2020-11-16 22:06:47,281 | upsnet_end2end_test.py | line 277: Batch 14/500, data_time:0.141, net_time:0.229, post_time:0.447\n",
            "2020-11-16 22:06:47,949 | upsnet_end2end_test.py | line 277: Batch 15/500, data_time:0.142, net_time:0.227, post_time:0.436\n",
            "2020-11-16 22:06:48,961 | upsnet_end2end_test.py | line 277: Batch 16/500, data_time:0.141, net_time:0.229, post_time:0.449\n",
            "2020-11-16 22:06:49,853 | upsnet_end2end_test.py | line 277: Batch 17/500, data_time:0.140, net_time:0.230, post_time:0.453\n",
            "2020-11-16 22:06:50,848 | upsnet_end2end_test.py | line 277: Batch 18/500, data_time:0.139, net_time:0.230, post_time:0.463\n",
            "2020-11-16 22:06:51,655 | upsnet_end2end_test.py | line 277: Batch 19/500, data_time:0.138, net_time:0.231, post_time:0.462\n",
            "2020-11-16 22:06:52,375 | upsnet_end2end_test.py | line 277: Batch 20/500, data_time:0.137, net_time:0.231, post_time:0.456\n",
            "2020-11-16 22:06:53,222 | upsnet_end2end_test.py | line 277: Batch 21/500, data_time:0.138, net_time:0.230, post_time:0.456\n",
            "2020-11-16 22:06:54,111 | upsnet_end2end_test.py | line 277: Batch 22/500, data_time:0.137, net_time:0.230, post_time:0.460\n",
            "2020-11-16 22:06:54,887 | upsnet_end2end_test.py | line 277: Batch 23/500, data_time:0.136, net_time:0.230, post_time:0.458\n",
            "2020-11-16 22:06:55,510 | upsnet_end2end_test.py | line 277: Batch 24/500, data_time:0.136, net_time:0.230, post_time:0.450\n",
            "2020-11-16 22:06:56,089 | upsnet_end2end_test.py | line 277: Batch 25/500, data_time:0.135, net_time:0.229, post_time:0.441\n",
            "2020-11-16 22:06:57,165 | upsnet_end2end_test.py | line 277: Batch 26/500, data_time:0.135, net_time:0.230, post_time:0.451\n",
            "2020-11-16 22:06:58,236 | upsnet_end2end_test.py | line 277: Batch 27/500, data_time:0.135, net_time:0.230, post_time:0.459\n",
            "2020-11-16 22:06:59,138 | upsnet_end2end_test.py | line 277: Batch 28/500, data_time:0.135, net_time:0.230, post_time:0.462\n",
            "2020-11-16 22:07:00,146 | upsnet_end2end_test.py | line 277: Batch 29/500, data_time:0.135, net_time:0.230, post_time:0.468\n",
            "2020-11-16 22:07:01,394 | upsnet_end2end_test.py | line 277: Batch 30/500, data_time:0.134, net_time:0.231, post_time:0.481\n",
            "2020-11-16 22:07:02,356 | upsnet_end2end_test.py | line 277: Batch 31/500, data_time:0.134, net_time:0.231, post_time:0.484\n",
            "2020-11-16 22:07:03,158 | upsnet_end2end_test.py | line 277: Batch 32/500, data_time:0.135, net_time:0.231, post_time:0.482\n",
            "2020-11-16 22:07:04,015 | upsnet_end2end_test.py | line 277: Batch 33/500, data_time:0.134, net_time:0.231, post_time:0.482\n",
            "2020-11-16 22:07:04,789 | upsnet_end2end_test.py | line 277: Batch 34/500, data_time:0.134, net_time:0.231, post_time:0.480\n",
            "2020-11-16 22:07:05,322 | upsnet_end2end_test.py | line 277: Batch 35/500, data_time:0.134, net_time:0.231, post_time:0.471\n",
            "2020-11-16 22:07:06,289 | upsnet_end2end_test.py | line 277: Batch 36/500, data_time:0.134, net_time:0.231, post_time:0.475\n",
            "2020-11-16 22:07:07,091 | upsnet_end2end_test.py | line 277: Batch 37/500, data_time:0.133, net_time:0.231, post_time:0.474\n",
            "2020-11-16 22:07:08,041 | upsnet_end2end_test.py | line 277: Batch 38/500, data_time:0.133, net_time:0.231, post_time:0.476\n",
            "2020-11-16 22:07:08,803 | upsnet_end2end_test.py | line 277: Batch 39/500, data_time:0.133, net_time:0.231, post_time:0.474\n",
            "2020-11-16 22:07:09,810 | upsnet_end2end_test.py | line 277: Batch 40/500, data_time:0.133, net_time:0.231, post_time:0.478\n",
            "2020-11-16 22:07:11,033 | upsnet_end2end_test.py | line 277: Batch 41/500, data_time:0.133, net_time:0.232, post_time:0.487\n",
            "2020-11-16 22:07:11,734 | upsnet_end2end_test.py | line 277: Batch 42/500, data_time:0.133, net_time:0.231, post_time:0.484\n",
            "2020-11-16 22:07:12,722 | upsnet_end2end_test.py | line 277: Batch 43/500, data_time:0.133, net_time:0.232, post_time:0.486\n",
            "2020-11-16 22:07:13,820 | upsnet_end2end_test.py | line 277: Batch 44/500, data_time:0.133, net_time:0.232, post_time:0.491\n",
            "2020-11-16 22:07:14,996 | upsnet_end2end_test.py | line 277: Batch 45/500, data_time:0.133, net_time:0.232, post_time:0.498\n",
            "2020-11-16 22:07:16,062 | upsnet_end2end_test.py | line 277: Batch 46/500, data_time:0.133, net_time:0.232, post_time:0.502\n",
            "2020-11-16 22:07:16,784 | upsnet_end2end_test.py | line 277: Batch 47/500, data_time:0.132, net_time:0.232, post_time:0.499\n",
            "2020-11-16 22:07:17,759 | upsnet_end2end_test.py | line 277: Batch 48/500, data_time:0.132, net_time:0.232, post_time:0.502\n",
            "2020-11-16 22:07:18,576 | upsnet_end2end_test.py | line 277: Batch 49/500, data_time:0.132, net_time:0.232, post_time:0.500\n",
            "2020-11-16 22:07:19,556 | upsnet_end2end_test.py | line 277: Batch 50/500, data_time:0.132, net_time:0.232, post_time:0.502\n",
            "2020-11-16 22:07:20,499 | upsnet_end2end_test.py | line 277: Batch 51/500, data_time:0.132, net_time:0.232, post_time:0.504\n",
            "2020-11-16 22:07:21,224 | upsnet_end2end_test.py | line 277: Batch 52/500, data_time:0.132, net_time:0.232, post_time:0.501\n",
            "2020-11-16 22:07:22,553 | upsnet_end2end_test.py | line 277: Batch 53/500, data_time:0.132, net_time:0.232, post_time:0.510\n",
            "2020-11-16 22:07:23,920 | upsnet_end2end_test.py | line 277: Batch 54/500, data_time:0.131, net_time:0.233, post_time:0.518\n",
            "2020-11-16 22:07:24,962 | upsnet_end2end_test.py | line 277: Batch 55/500, data_time:0.131, net_time:0.233, post_time:0.521\n",
            "2020-11-16 22:07:25,690 | upsnet_end2end_test.py | line 277: Batch 56/500, data_time:0.131, net_time:0.233, post_time:0.518\n",
            "2020-11-16 22:07:26,946 | upsnet_end2end_test.py | line 277: Batch 57/500, data_time:0.131, net_time:0.233, post_time:0.525\n",
            "2020-11-16 22:07:27,581 | upsnet_end2end_test.py | line 277: Batch 58/500, data_time:0.131, net_time:0.233, post_time:0.520\n",
            "2020-11-16 22:07:28,810 | upsnet_end2end_test.py | line 277: Batch 59/500, data_time:0.131, net_time:0.233, post_time:0.526\n",
            "2020-11-16 22:07:30,170 | upsnet_end2end_test.py | line 277: Batch 60/500, data_time:0.131, net_time:0.233, post_time:0.534\n",
            "2020-11-16 22:07:31,482 | upsnet_end2end_test.py | line 277: Batch 61/500, data_time:0.131, net_time:0.233, post_time:0.540\n",
            "2020-11-16 22:07:32,679 | upsnet_end2end_test.py | line 277: Batch 62/500, data_time:0.131, net_time:0.234, post_time:0.545\n",
            "2020-11-16 22:07:33,847 | upsnet_end2end_test.py | line 277: Batch 63/500, data_time:0.131, net_time:0.234, post_time:0.548\n",
            "2020-11-16 22:07:34,707 | upsnet_end2end_test.py | line 277: Batch 64/500, data_time:0.130, net_time:0.234, post_time:0.548\n",
            "2020-11-16 22:07:35,482 | upsnet_end2end_test.py | line 277: Batch 65/500, data_time:0.130, net_time:0.234, post_time:0.546\n",
            "2020-11-16 22:07:36,200 | upsnet_end2end_test.py | line 277: Batch 66/500, data_time:0.130, net_time:0.234, post_time:0.543\n",
            "2020-11-16 22:07:37,166 | upsnet_end2end_test.py | line 277: Batch 67/500, data_time:0.130, net_time:0.234, post_time:0.543\n",
            "2020-11-16 22:07:38,349 | upsnet_end2end_test.py | line 277: Batch 68/500, data_time:0.130, net_time:0.234, post_time:0.547\n",
            "2020-11-16 22:07:39,710 | upsnet_end2end_test.py | line 277: Batch 69/500, data_time:0.130, net_time:0.234, post_time:0.554\n",
            "2020-11-16 22:07:40,490 | upsnet_end2end_test.py | line 277: Batch 70/500, data_time:0.130, net_time:0.234, post_time:0.552\n",
            "2020-11-16 22:07:41,135 | upsnet_end2end_test.py | line 277: Batch 71/500, data_time:0.130, net_time:0.233, post_time:0.548\n",
            "2020-11-16 22:07:42,381 | upsnet_end2end_test.py | line 277: Batch 72/500, data_time:0.130, net_time:0.234, post_time:0.552\n",
            "2020-11-16 22:07:43,644 | upsnet_end2end_test.py | line 277: Batch 73/500, data_time:0.130, net_time:0.234, post_time:0.557\n",
            "2020-11-16 22:07:44,729 | upsnet_end2end_test.py | line 277: Batch 74/500, data_time:0.130, net_time:0.234, post_time:0.559\n",
            "2020-11-16 22:07:46,096 | upsnet_end2end_test.py | line 277: Batch 75/500, data_time:0.130, net_time:0.234, post_time:0.565\n",
            "2020-11-16 22:07:47,408 | upsnet_end2end_test.py | line 277: Batch 76/500, data_time:0.130, net_time:0.234, post_time:0.569\n",
            "2020-11-16 22:07:48,559 | upsnet_end2end_test.py | line 277: Batch 77/500, data_time:0.130, net_time:0.234, post_time:0.572\n",
            "2020-11-16 22:07:49,718 | upsnet_end2end_test.py | line 277: Batch 78/500, data_time:0.130, net_time:0.234, post_time:0.575\n",
            "2020-11-16 22:07:50,888 | upsnet_end2end_test.py | line 277: Batch 79/500, data_time:0.130, net_time:0.234, post_time:0.577\n",
            "2020-11-16 22:07:51,975 | upsnet_end2end_test.py | line 277: Batch 80/500, data_time:0.130, net_time:0.234, post_time:0.579\n",
            "2020-11-16 22:07:53,232 | upsnet_end2end_test.py | line 277: Batch 81/500, data_time:0.130, net_time:0.234, post_time:0.583\n",
            "2020-11-16 22:07:54,430 | upsnet_end2end_test.py | line 277: Batch 82/500, data_time:0.130, net_time:0.234, post_time:0.586\n",
            "2020-11-16 22:07:55,547 | upsnet_end2end_test.py | line 277: Batch 83/500, data_time:0.130, net_time:0.235, post_time:0.587\n",
            "2020-11-16 22:07:56,795 | upsnet_end2end_test.py | line 277: Batch 84/500, data_time:0.130, net_time:0.235, post_time:0.591\n",
            "2020-11-16 22:07:57,691 | upsnet_end2end_test.py | line 277: Batch 85/500, data_time:0.130, net_time:0.235, post_time:0.590\n",
            "2020-11-16 22:07:59,024 | upsnet_end2end_test.py | line 277: Batch 86/500, data_time:0.130, net_time:0.235, post_time:0.594\n",
            "2020-11-16 22:08:00,307 | upsnet_end2end_test.py | line 277: Batch 87/500, data_time:0.130, net_time:0.235, post_time:0.598\n",
            "2020-11-16 22:08:01,674 | upsnet_end2end_test.py | line 277: Batch 88/500, data_time:0.130, net_time:0.235, post_time:0.602\n",
            "2020-11-16 22:08:02,782 | upsnet_end2end_test.py | line 277: Batch 89/500, data_time:0.130, net_time:0.235, post_time:0.604\n",
            "2020-11-16 22:08:04,105 | upsnet_end2end_test.py | line 277: Batch 90/500, data_time:0.129, net_time:0.235, post_time:0.608\n",
            "2020-11-16 22:08:05,110 | upsnet_end2end_test.py | line 277: Batch 91/500, data_time:0.129, net_time:0.235, post_time:0.608\n",
            "2020-11-16 22:08:06,031 | upsnet_end2end_test.py | line 277: Batch 92/500, data_time:0.129, net_time:0.235, post_time:0.607\n",
            "2020-11-16 22:08:07,180 | upsnet_end2end_test.py | line 277: Batch 93/500, data_time:0.129, net_time:0.235, post_time:0.609\n",
            "2020-11-16 22:08:07,885 | upsnet_end2end_test.py | line 277: Batch 94/500, data_time:0.129, net_time:0.235, post_time:0.606\n",
            "2020-11-16 22:08:09,041 | upsnet_end2end_test.py | line 277: Batch 95/500, data_time:0.129, net_time:0.235, post_time:0.608\n",
            "2020-11-16 22:08:09,840 | upsnet_end2end_test.py | line 277: Batch 96/500, data_time:0.129, net_time:0.235, post_time:0.606\n",
            "2020-11-16 22:08:10,716 | upsnet_end2end_test.py | line 277: Batch 97/500, data_time:0.129, net_time:0.235, post_time:0.605\n",
            "2020-11-16 22:08:11,773 | upsnet_end2end_test.py | line 277: Batch 98/500, data_time:0.129, net_time:0.235, post_time:0.606\n",
            "2020-11-16 22:08:12,952 | upsnet_end2end_test.py | line 277: Batch 99/500, data_time:0.129, net_time:0.235, post_time:0.608\n",
            "2020-11-16 22:08:14,224 | upsnet_end2end_test.py | line 277: Batch 100/500, data_time:0.129, net_time:0.235, post_time:0.611\n",
            "2020-11-16 22:08:15,182 | upsnet_end2end_test.py | line 277: Batch 101/500, data_time:0.129, net_time:0.235, post_time:0.611\n",
            "2020-11-16 22:08:16,335 | upsnet_end2end_test.py | line 277: Batch 102/500, data_time:0.129, net_time:0.235, post_time:0.612\n",
            "2020-11-16 22:08:17,025 | upsnet_end2end_test.py | line 277: Batch 103/500, data_time:0.129, net_time:0.235, post_time:0.609\n",
            "2020-11-16 22:08:17,664 | upsnet_end2end_test.py | line 277: Batch 104/500, data_time:0.129, net_time:0.235, post_time:0.606\n",
            "2020-11-16 22:08:18,422 | upsnet_end2end_test.py | line 277: Batch 105/500, data_time:0.129, net_time:0.235, post_time:0.604\n",
            "2020-11-16 22:08:19,179 | upsnet_end2end_test.py | line 277: Batch 106/500, data_time:0.129, net_time:0.235, post_time:0.602\n",
            "2020-11-16 22:08:19,969 | upsnet_end2end_test.py | line 277: Batch 107/500, data_time:0.129, net_time:0.235, post_time:0.601\n",
            "2020-11-16 22:08:20,757 | upsnet_end2end_test.py | line 277: Batch 108/500, data_time:0.129, net_time:0.235, post_time:0.599\n",
            "2020-11-16 22:08:21,594 | upsnet_end2end_test.py | line 277: Batch 109/500, data_time:0.129, net_time:0.235, post_time:0.598\n",
            "2020-11-16 22:08:22,371 | upsnet_end2end_test.py | line 277: Batch 110/500, data_time:0.129, net_time:0.234, post_time:0.596\n",
            "2020-11-16 22:08:23,377 | upsnet_end2end_test.py | line 277: Batch 111/500, data_time:0.129, net_time:0.234, post_time:0.597\n",
            "2020-11-16 22:08:23,898 | upsnet_end2end_test.py | line 277: Batch 112/500, data_time:0.129, net_time:0.234, post_time:0.593\n",
            "2020-11-16 22:08:24,721 | upsnet_end2end_test.py | line 277: Batch 113/500, data_time:0.129, net_time:0.234, post_time:0.592\n",
            "2020-11-16 22:08:25,561 | upsnet_end2end_test.py | line 277: Batch 114/500, data_time:0.129, net_time:0.234, post_time:0.591\n",
            "2020-11-16 22:08:26,560 | upsnet_end2end_test.py | line 277: Batch 115/500, data_time:0.129, net_time:0.234, post_time:0.591\n",
            "2020-11-16 22:08:27,630 | upsnet_end2end_test.py | line 277: Batch 116/500, data_time:0.128, net_time:0.234, post_time:0.592\n",
            "2020-11-16 22:08:28,468 | upsnet_end2end_test.py | line 277: Batch 117/500, data_time:0.129, net_time:0.234, post_time:0.591\n",
            "2020-11-16 22:08:29,294 | upsnet_end2end_test.py | line 277: Batch 118/500, data_time:0.128, net_time:0.234, post_time:0.590\n",
            "2020-11-16 22:08:29,895 | upsnet_end2end_test.py | line 277: Batch 119/500, data_time:0.128, net_time:0.234, post_time:0.587\n",
            "2020-11-16 22:08:30,669 | upsnet_end2end_test.py | line 277: Batch 120/500, data_time:0.128, net_time:0.234, post_time:0.585\n",
            "2020-11-16 22:08:31,642 | upsnet_end2end_test.py | line 277: Batch 121/500, data_time:0.128, net_time:0.234, post_time:0.586\n",
            "2020-11-16 22:08:32,485 | upsnet_end2end_test.py | line 277: Batch 122/500, data_time:0.128, net_time:0.234, post_time:0.585\n",
            "2020-11-16 22:08:33,224 | upsnet_end2end_test.py | line 277: Batch 123/500, data_time:0.128, net_time:0.234, post_time:0.583\n",
            "2020-11-16 22:08:33,980 | upsnet_end2end_test.py | line 277: Batch 124/500, data_time:0.128, net_time:0.234, post_time:0.581\n",
            "2020-11-16 22:08:34,749 | upsnet_end2end_test.py | line 277: Batch 125/500, data_time:0.128, net_time:0.234, post_time:0.580\n",
            "2020-11-16 22:08:35,529 | upsnet_end2end_test.py | line 277: Batch 126/500, data_time:0.128, net_time:0.234, post_time:0.579\n",
            "2020-11-16 22:08:36,400 | upsnet_end2end_test.py | line 277: Batch 127/500, data_time:0.128, net_time:0.234, post_time:0.578\n",
            "2020-11-16 22:08:37,168 | upsnet_end2end_test.py | line 277: Batch 128/500, data_time:0.128, net_time:0.234, post_time:0.577\n",
            "2020-11-16 22:08:37,938 | upsnet_end2end_test.py | line 277: Batch 129/500, data_time:0.128, net_time:0.234, post_time:0.575\n",
            "2020-11-16 22:08:38,848 | upsnet_end2end_test.py | line 277: Batch 130/500, data_time:0.128, net_time:0.234, post_time:0.575\n",
            "2020-11-16 22:08:39,893 | upsnet_end2end_test.py | line 277: Batch 131/500, data_time:0.128, net_time:0.234, post_time:0.576\n",
            "2020-11-16 22:08:41,010 | upsnet_end2end_test.py | line 277: Batch 132/500, data_time:0.128, net_time:0.234, post_time:0.577\n",
            "2020-11-16 22:08:42,189 | upsnet_end2end_test.py | line 277: Batch 133/500, data_time:0.128, net_time:0.234, post_time:0.579\n",
            "2020-11-16 22:08:43,125 | upsnet_end2end_test.py | line 277: Batch 134/500, data_time:0.128, net_time:0.234, post_time:0.579\n",
            "2020-11-16 22:08:44,042 | upsnet_end2end_test.py | line 277: Batch 135/500, data_time:0.128, net_time:0.234, post_time:0.578\n",
            "2020-11-16 22:08:45,277 | upsnet_end2end_test.py | line 277: Batch 136/500, data_time:0.128, net_time:0.234, post_time:0.580\n",
            "2020-11-16 22:08:46,391 | upsnet_end2end_test.py | line 277: Batch 137/500, data_time:0.128, net_time:0.234, post_time:0.582\n",
            "2020-11-16 22:08:47,272 | upsnet_end2end_test.py | line 277: Batch 138/500, data_time:0.128, net_time:0.234, post_time:0.581\n",
            "2020-11-16 22:08:48,248 | upsnet_end2end_test.py | line 277: Batch 139/500, data_time:0.128, net_time:0.234, post_time:0.581\n",
            "2020-11-16 22:08:48,976 | upsnet_end2end_test.py | line 277: Batch 140/500, data_time:0.128, net_time:0.234, post_time:0.580\n",
            "2020-11-16 22:08:50,215 | upsnet_end2end_test.py | line 277: Batch 141/500, data_time:0.128, net_time:0.234, post_time:0.582\n",
            "2020-11-16 22:08:51,553 | upsnet_end2end_test.py | line 277: Batch 142/500, data_time:0.128, net_time:0.234, post_time:0.584\n",
            "2020-11-16 22:08:52,443 | upsnet_end2end_test.py | line 277: Batch 143/500, data_time:0.128, net_time:0.234, post_time:0.584\n",
            "2020-11-16 22:08:53,711 | upsnet_end2end_test.py | line 277: Batch 144/500, data_time:0.128, net_time:0.234, post_time:0.586\n",
            "2020-11-16 22:08:54,736 | upsnet_end2end_test.py | line 277: Batch 145/500, data_time:0.128, net_time:0.234, post_time:0.587\n",
            "2020-11-16 22:08:55,486 | upsnet_end2end_test.py | line 277: Batch 146/500, data_time:0.128, net_time:0.234, post_time:0.585\n",
            "2020-11-16 22:08:56,464 | upsnet_end2end_test.py | line 277: Batch 147/500, data_time:0.128, net_time:0.234, post_time:0.585\n",
            "2020-11-16 22:08:57,403 | upsnet_end2end_test.py | line 277: Batch 148/500, data_time:0.128, net_time:0.234, post_time:0.585\n",
            "2020-11-16 22:08:58,158 | upsnet_end2end_test.py | line 277: Batch 149/500, data_time:0.128, net_time:0.234, post_time:0.584\n",
            "2020-11-16 22:08:58,621 | upsnet_end2end_test.py | line 277: Batch 150/500, data_time:0.128, net_time:0.234, post_time:0.581\n",
            "2020-11-16 22:08:59,196 | upsnet_end2end_test.py | line 277: Batch 151/500, data_time:0.128, net_time:0.234, post_time:0.578\n",
            "2020-11-16 22:08:59,869 | upsnet_end2end_test.py | line 277: Batch 152/500, data_time:0.128, net_time:0.234, post_time:0.577\n",
            "2020-11-16 22:09:00,673 | upsnet_end2end_test.py | line 277: Batch 153/500, data_time:0.128, net_time:0.234, post_time:0.576\n",
            "2020-11-16 22:09:01,567 | upsnet_end2end_test.py | line 277: Batch 154/500, data_time:0.128, net_time:0.234, post_time:0.575\n",
            "2020-11-16 22:09:02,285 | upsnet_end2end_test.py | line 277: Batch 155/500, data_time:0.128, net_time:0.234, post_time:0.574\n",
            "2020-11-16 22:09:03,139 | upsnet_end2end_test.py | line 277: Batch 156/500, data_time:0.128, net_time:0.234, post_time:0.573\n",
            "2020-11-16 22:09:03,824 | upsnet_end2end_test.py | line 277: Batch 157/500, data_time:0.128, net_time:0.234, post_time:0.572\n",
            "2020-11-16 22:09:04,406 | upsnet_end2end_test.py | line 277: Batch 158/500, data_time:0.128, net_time:0.233, post_time:0.570\n",
            "2020-11-16 22:09:05,065 | upsnet_end2end_test.py | line 277: Batch 159/500, data_time:0.128, net_time:0.233, post_time:0.568\n",
            "2020-11-16 22:09:06,012 | upsnet_end2end_test.py | line 277: Batch 160/500, data_time:0.128, net_time:0.233, post_time:0.568\n",
            "2020-11-16 22:09:06,838 | upsnet_end2end_test.py | line 277: Batch 161/500, data_time:0.128, net_time:0.233, post_time:0.567\n",
            "2020-11-16 22:09:08,058 | upsnet_end2end_test.py | line 277: Batch 162/500, data_time:0.128, net_time:0.233, post_time:0.569\n",
            "2020-11-16 22:09:08,726 | upsnet_end2end_test.py | line 277: Batch 163/500, data_time:0.128, net_time:0.233, post_time:0.567\n",
            "2020-11-16 22:09:09,681 | upsnet_end2end_test.py | line 277: Batch 164/500, data_time:0.128, net_time:0.233, post_time:0.567\n",
            "2020-11-16 22:09:10,629 | upsnet_end2end_test.py | line 277: Batch 165/500, data_time:0.128, net_time:0.233, post_time:0.567\n",
            "2020-11-16 22:09:11,545 | upsnet_end2end_test.py | line 277: Batch 166/500, data_time:0.128, net_time:0.233, post_time:0.567\n",
            "2020-11-16 22:09:12,283 | upsnet_end2end_test.py | line 277: Batch 167/500, data_time:0.128, net_time:0.234, post_time:0.566\n",
            "2020-11-16 22:09:13,039 | upsnet_end2end_test.py | line 277: Batch 168/500, data_time:0.127, net_time:0.234, post_time:0.565\n",
            "2020-11-16 22:09:13,719 | upsnet_end2end_test.py | line 277: Batch 169/500, data_time:0.127, net_time:0.234, post_time:0.564\n",
            "2020-11-16 22:09:14,264 | upsnet_end2end_test.py | line 277: Batch 170/500, data_time:0.128, net_time:0.233, post_time:0.561\n",
            "2020-11-16 22:09:15,203 | upsnet_end2end_test.py | line 277: Batch 171/500, data_time:0.127, net_time:0.233, post_time:0.561\n",
            "2020-11-16 22:09:15,996 | upsnet_end2end_test.py | line 277: Batch 172/500, data_time:0.127, net_time:0.233, post_time:0.561\n",
            "2020-11-16 22:09:17,033 | upsnet_end2end_test.py | line 277: Batch 173/500, data_time:0.127, net_time:0.233, post_time:0.561\n",
            "2020-11-16 22:09:18,055 | upsnet_end2end_test.py | line 277: Batch 174/500, data_time:0.127, net_time:0.233, post_time:0.562\n",
            "2020-11-16 22:09:18,997 | upsnet_end2end_test.py | line 277: Batch 175/500, data_time:0.127, net_time:0.233, post_time:0.562\n",
            "2020-11-16 22:09:20,010 | upsnet_end2end_test.py | line 277: Batch 176/500, data_time:0.127, net_time:0.234, post_time:0.562\n",
            "2020-11-16 22:09:21,192 | upsnet_end2end_test.py | line 277: Batch 177/500, data_time:0.127, net_time:0.234, post_time:0.564\n",
            "2020-11-16 22:09:21,889 | upsnet_end2end_test.py | line 277: Batch 178/500, data_time:0.127, net_time:0.234, post_time:0.562\n",
            "2020-11-16 22:09:22,264 | upsnet_end2end_test.py | line 277: Batch 179/500, data_time:0.127, net_time:0.233, post_time:0.559\n",
            "2020-11-16 22:09:23,258 | upsnet_end2end_test.py | line 277: Batch 180/500, data_time:0.127, net_time:0.233, post_time:0.560\n",
            "2020-11-16 22:09:24,333 | upsnet_end2end_test.py | line 277: Batch 181/500, data_time:0.127, net_time:0.233, post_time:0.561\n",
            "2020-11-16 22:09:25,289 | upsnet_end2end_test.py | line 277: Batch 182/500, data_time:0.127, net_time:0.233, post_time:0.561\n",
            "2020-11-16 22:09:26,482 | upsnet_end2end_test.py | line 277: Batch 183/500, data_time:0.127, net_time:0.234, post_time:0.562\n",
            "2020-11-16 22:09:27,759 | upsnet_end2end_test.py | line 277: Batch 184/500, data_time:0.127, net_time:0.234, post_time:0.564\n",
            "2020-11-16 22:09:28,409 | upsnet_end2end_test.py | line 277: Batch 185/500, data_time:0.127, net_time:0.234, post_time:0.562\n",
            "2020-11-16 22:09:29,530 | upsnet_end2end_test.py | line 277: Batch 186/500, data_time:0.127, net_time:0.234, post_time:0.563\n",
            "2020-11-16 22:09:30,903 | upsnet_end2end_test.py | line 277: Batch 187/500, data_time:0.127, net_time:0.234, post_time:0.566\n",
            "2020-11-16 22:09:32,239 | upsnet_end2end_test.py | line 277: Batch 188/500, data_time:0.127, net_time:0.234, post_time:0.568\n",
            "2020-11-16 22:09:33,375 | upsnet_end2end_test.py | line 277: Batch 189/500, data_time:0.127, net_time:0.234, post_time:0.569\n",
            "2020-11-16 22:09:34,661 | upsnet_end2end_test.py | line 277: Batch 190/500, data_time:0.127, net_time:0.234, post_time:0.571\n",
            "2020-11-16 22:09:35,380 | upsnet_end2end_test.py | line 277: Batch 191/500, data_time:0.127, net_time:0.234, post_time:0.570\n",
            "2020-11-16 22:09:36,714 | upsnet_end2end_test.py | line 277: Batch 192/500, data_time:0.127, net_time:0.234, post_time:0.572\n",
            "2020-11-16 22:09:38,071 | upsnet_end2end_test.py | line 277: Batch 193/500, data_time:0.127, net_time:0.234, post_time:0.574\n",
            "2020-11-16 22:09:39,044 | upsnet_end2end_test.py | line 277: Batch 194/500, data_time:0.127, net_time:0.234, post_time:0.574\n",
            "2020-11-16 22:09:40,247 | upsnet_end2end_test.py | line 277: Batch 195/500, data_time:0.127, net_time:0.234, post_time:0.575\n",
            "2020-11-16 22:09:41,578 | upsnet_end2end_test.py | line 277: Batch 196/500, data_time:0.127, net_time:0.234, post_time:0.577\n",
            "2020-11-16 22:09:42,708 | upsnet_end2end_test.py | line 277: Batch 197/500, data_time:0.127, net_time:0.234, post_time:0.578\n",
            "2020-11-16 22:09:43,937 | upsnet_end2end_test.py | line 277: Batch 198/500, data_time:0.127, net_time:0.234, post_time:0.579\n",
            "2020-11-16 22:09:45,255 | upsnet_end2end_test.py | line 277: Batch 199/500, data_time:0.127, net_time:0.234, post_time:0.581\n",
            "2020-11-16 22:09:46,590 | upsnet_end2end_test.py | line 277: Batch 200/500, data_time:0.127, net_time:0.234, post_time:0.583\n",
            "2020-11-16 22:09:47,584 | upsnet_end2end_test.py | line 277: Batch 201/500, data_time:0.127, net_time:0.234, post_time:0.583\n",
            "2020-11-16 22:09:48,714 | upsnet_end2end_test.py | line 277: Batch 202/500, data_time:0.127, net_time:0.234, post_time:0.584\n",
            "2020-11-16 22:09:49,573 | upsnet_end2end_test.py | line 277: Batch 203/500, data_time:0.127, net_time:0.234, post_time:0.583\n",
            "2020-11-16 22:09:50,768 | upsnet_end2end_test.py | line 277: Batch 204/500, data_time:0.127, net_time:0.234, post_time:0.585\n",
            "2020-11-16 22:09:51,874 | upsnet_end2end_test.py | line 277: Batch 205/500, data_time:0.127, net_time:0.234, post_time:0.585\n",
            "2020-11-16 22:09:53,045 | upsnet_end2end_test.py | line 277: Batch 206/500, data_time:0.127, net_time:0.234, post_time:0.586\n",
            "2020-11-16 22:09:54,042 | upsnet_end2end_test.py | line 277: Batch 207/500, data_time:0.127, net_time:0.234, post_time:0.587\n",
            "2020-11-16 22:09:54,941 | upsnet_end2end_test.py | line 277: Batch 208/500, data_time:0.127, net_time:0.234, post_time:0.586\n",
            "2020-11-16 22:09:56,312 | upsnet_end2end_test.py | line 277: Batch 209/500, data_time:0.127, net_time:0.234, post_time:0.588\n",
            "2020-11-16 22:09:57,531 | upsnet_end2end_test.py | line 277: Batch 210/500, data_time:0.127, net_time:0.235, post_time:0.589\n",
            "2020-11-16 22:09:58,582 | upsnet_end2end_test.py | line 277: Batch 211/500, data_time:0.127, net_time:0.235, post_time:0.590\n",
            "2020-11-16 22:09:59,386 | upsnet_end2end_test.py | line 277: Batch 212/500, data_time:0.127, net_time:0.235, post_time:0.589\n",
            "2020-11-16 22:10:00,016 | upsnet_end2end_test.py | line 277: Batch 213/500, data_time:0.127, net_time:0.235, post_time:0.587\n",
            "2020-11-16 22:10:00,771 | upsnet_end2end_test.py | line 277: Batch 214/500, data_time:0.127, net_time:0.235, post_time:0.586\n",
            "2020-11-16 22:10:01,676 | upsnet_end2end_test.py | line 277: Batch 215/500, data_time:0.127, net_time:0.235, post_time:0.586\n",
            "2020-11-16 22:10:02,574 | upsnet_end2end_test.py | line 277: Batch 216/500, data_time:0.126, net_time:0.235, post_time:0.586\n",
            "2020-11-16 22:10:03,606 | upsnet_end2end_test.py | line 277: Batch 217/500, data_time:0.126, net_time:0.235, post_time:0.586\n",
            "2020-11-16 22:10:04,487 | upsnet_end2end_test.py | line 277: Batch 218/500, data_time:0.126, net_time:0.235, post_time:0.586\n",
            "2020-11-16 22:10:05,517 | upsnet_end2end_test.py | line 277: Batch 219/500, data_time:0.126, net_time:0.235, post_time:0.587\n",
            "2020-11-16 22:10:06,631 | upsnet_end2end_test.py | line 277: Batch 220/500, data_time:0.126, net_time:0.235, post_time:0.587\n",
            "2020-11-16 22:10:07,911 | upsnet_end2end_test.py | line 277: Batch 221/500, data_time:0.126, net_time:0.235, post_time:0.589\n",
            "2020-11-16 22:10:08,880 | upsnet_end2end_test.py | line 277: Batch 222/500, data_time:0.126, net_time:0.235, post_time:0.589\n",
            "2020-11-16 22:10:09,699 | upsnet_end2end_test.py | line 277: Batch 223/500, data_time:0.126, net_time:0.235, post_time:0.588\n",
            "2020-11-16 22:10:10,592 | upsnet_end2end_test.py | line 277: Batch 224/500, data_time:0.126, net_time:0.235, post_time:0.588\n",
            "2020-11-16 22:10:11,486 | upsnet_end2end_test.py | line 277: Batch 225/500, data_time:0.126, net_time:0.235, post_time:0.588\n",
            "2020-11-16 22:10:12,284 | upsnet_end2end_test.py | line 277: Batch 226/500, data_time:0.126, net_time:0.235, post_time:0.587\n",
            "2020-11-16 22:10:13,091 | upsnet_end2end_test.py | line 277: Batch 227/500, data_time:0.126, net_time:0.235, post_time:0.586\n",
            "2020-11-16 22:10:14,100 | upsnet_end2end_test.py | line 277: Batch 228/500, data_time:0.126, net_time:0.235, post_time:0.587\n",
            "2020-11-16 22:10:14,667 | upsnet_end2end_test.py | line 277: Batch 229/500, data_time:0.126, net_time:0.235, post_time:0.585\n",
            "2020-11-16 22:10:15,295 | upsnet_end2end_test.py | line 277: Batch 230/500, data_time:0.126, net_time:0.235, post_time:0.584\n",
            "2020-11-16 22:10:16,401 | upsnet_end2end_test.py | line 277: Batch 231/500, data_time:0.126, net_time:0.235, post_time:0.584\n",
            "2020-11-16 22:10:17,147 | upsnet_end2end_test.py | line 277: Batch 232/500, data_time:0.126, net_time:0.235, post_time:0.583\n",
            "2020-11-16 22:10:18,186 | upsnet_end2end_test.py | line 277: Batch 233/500, data_time:0.126, net_time:0.235, post_time:0.584\n",
            "2020-11-16 22:10:19,197 | upsnet_end2end_test.py | line 277: Batch 234/500, data_time:0.126, net_time:0.235, post_time:0.584\n",
            "2020-11-16 22:10:20,430 | upsnet_end2end_test.py | line 277: Batch 235/500, data_time:0.126, net_time:0.235, post_time:0.585\n",
            "2020-11-16 22:10:21,299 | upsnet_end2end_test.py | line 277: Batch 236/500, data_time:0.126, net_time:0.235, post_time:0.585\n",
            "2020-11-16 22:10:22,162 | upsnet_end2end_test.py | line 277: Batch 237/500, data_time:0.126, net_time:0.235, post_time:0.584\n",
            "2020-11-16 22:10:23,069 | upsnet_end2end_test.py | line 277: Batch 238/500, data_time:0.126, net_time:0.235, post_time:0.584\n",
            "2020-11-16 22:10:23,960 | upsnet_end2end_test.py | line 277: Batch 239/500, data_time:0.126, net_time:0.235, post_time:0.584\n",
            "2020-11-16 22:10:24,903 | upsnet_end2end_test.py | line 277: Batch 240/500, data_time:0.126, net_time:0.235, post_time:0.584\n",
            "2020-11-16 22:10:25,873 | upsnet_end2end_test.py | line 277: Batch 241/500, data_time:0.126, net_time:0.235, post_time:0.584\n",
            "2020-11-16 22:10:27,031 | upsnet_end2end_test.py | line 277: Batch 242/500, data_time:0.126, net_time:0.235, post_time:0.585\n",
            "2020-11-16 22:10:27,917 | upsnet_end2end_test.py | line 277: Batch 243/500, data_time:0.126, net_time:0.235, post_time:0.584\n",
            "2020-11-16 22:10:28,696 | upsnet_end2end_test.py | line 277: Batch 244/500, data_time:0.126, net_time:0.235, post_time:0.584\n",
            "2020-11-16 22:10:29,431 | upsnet_end2end_test.py | line 277: Batch 245/500, data_time:0.126, net_time:0.235, post_time:0.583\n",
            "2020-11-16 22:10:30,119 | upsnet_end2end_test.py | line 277: Batch 246/500, data_time:0.126, net_time:0.235, post_time:0.582\n",
            "2020-11-16 22:10:30,868 | upsnet_end2end_test.py | line 277: Batch 247/500, data_time:0.126, net_time:0.235, post_time:0.581\n",
            "2020-11-16 22:10:31,482 | upsnet_end2end_test.py | line 277: Batch 248/500, data_time:0.126, net_time:0.234, post_time:0.580\n",
            "2020-11-16 22:10:32,667 | upsnet_end2end_test.py | line 277: Batch 249/500, data_time:0.126, net_time:0.235, post_time:0.581\n",
            "2020-11-16 22:10:33,788 | upsnet_end2end_test.py | line 277: Batch 250/500, data_time:0.126, net_time:0.235, post_time:0.581\n",
            "2020-11-16 22:10:34,605 | upsnet_end2end_test.py | line 277: Batch 251/500, data_time:0.126, net_time:0.235, post_time:0.581\n",
            "2020-11-16 22:10:35,750 | upsnet_end2end_test.py | line 277: Batch 252/500, data_time:0.126, net_time:0.235, post_time:0.581\n",
            "2020-11-16 22:10:36,741 | upsnet_end2end_test.py | line 277: Batch 253/500, data_time:0.126, net_time:0.235, post_time:0.582\n",
            "2020-11-16 22:10:37,703 | upsnet_end2end_test.py | line 277: Batch 254/500, data_time:0.126, net_time:0.235, post_time:0.582\n",
            "2020-11-16 22:10:39,036 | upsnet_end2end_test.py | line 277: Batch 255/500, data_time:0.126, net_time:0.235, post_time:0.583\n",
            "2020-11-16 22:10:39,941 | upsnet_end2end_test.py | line 277: Batch 256/500, data_time:0.126, net_time:0.235, post_time:0.583\n",
            "2020-11-16 22:10:40,842 | upsnet_end2end_test.py | line 277: Batch 257/500, data_time:0.126, net_time:0.235, post_time:0.583\n",
            "2020-11-16 22:10:41,458 | upsnet_end2end_test.py | line 277: Batch 258/500, data_time:0.126, net_time:0.235, post_time:0.581\n",
            "2020-11-16 22:10:42,073 | upsnet_end2end_test.py | line 277: Batch 259/500, data_time:0.126, net_time:0.235, post_time:0.580\n",
            "2020-11-16 22:10:42,858 | upsnet_end2end_test.py | line 277: Batch 260/500, data_time:0.126, net_time:0.235, post_time:0.579\n",
            "2020-11-16 22:10:43,784 | upsnet_end2end_test.py | line 277: Batch 261/500, data_time:0.126, net_time:0.235, post_time:0.579\n",
            "2020-11-16 22:10:44,436 | upsnet_end2end_test.py | line 277: Batch 262/500, data_time:0.126, net_time:0.235, post_time:0.578\n",
            "2020-11-16 22:10:45,468 | upsnet_end2end_test.py | line 277: Batch 263/500, data_time:0.126, net_time:0.235, post_time:0.579\n",
            "2020-11-16 22:10:46,320 | upsnet_end2end_test.py | line 277: Batch 264/500, data_time:0.126, net_time:0.235, post_time:0.578\n",
            "2020-11-16 22:10:47,081 | upsnet_end2end_test.py | line 277: Batch 265/500, data_time:0.126, net_time:0.234, post_time:0.578\n",
            "2020-11-16 22:10:48,211 | upsnet_end2end_test.py | line 277: Batch 266/500, data_time:0.126, net_time:0.235, post_time:0.578\n",
            "2020-11-16 22:10:48,928 | upsnet_end2end_test.py | line 277: Batch 267/500, data_time:0.126, net_time:0.234, post_time:0.577\n",
            "2020-11-16 22:10:49,764 | upsnet_end2end_test.py | line 277: Batch 268/500, data_time:0.126, net_time:0.234, post_time:0.577\n",
            "2020-11-16 22:10:50,397 | upsnet_end2end_test.py | line 277: Batch 269/500, data_time:0.126, net_time:0.234, post_time:0.576\n",
            "2020-11-16 22:10:51,027 | upsnet_end2end_test.py | line 277: Batch 270/500, data_time:0.126, net_time:0.234, post_time:0.575\n",
            "2020-11-16 22:10:51,592 | upsnet_end2end_test.py | line 277: Batch 271/500, data_time:0.126, net_time:0.234, post_time:0.574\n",
            "2020-11-16 22:10:52,320 | upsnet_end2end_test.py | line 277: Batch 272/500, data_time:0.126, net_time:0.234, post_time:0.573\n",
            "2020-11-16 22:10:53,456 | upsnet_end2end_test.py | line 277: Batch 273/500, data_time:0.126, net_time:0.234, post_time:0.573\n",
            "2020-11-16 22:10:54,130 | upsnet_end2end_test.py | line 277: Batch 274/500, data_time:0.126, net_time:0.234, post_time:0.573\n",
            "2020-11-16 22:10:54,877 | upsnet_end2end_test.py | line 277: Batch 275/500, data_time:0.126, net_time:0.234, post_time:0.572\n",
            "2020-11-16 22:10:55,284 | upsnet_end2end_test.py | line 277: Batch 276/500, data_time:0.126, net_time:0.234, post_time:0.570\n",
            "2020-11-16 22:10:55,874 | upsnet_end2end_test.py | line 277: Batch 277/500, data_time:0.126, net_time:0.234, post_time:0.569\n",
            "2020-11-16 22:10:56,552 | upsnet_end2end_test.py | line 277: Batch 278/500, data_time:0.126, net_time:0.234, post_time:0.568\n",
            "2020-11-16 22:10:56,980 | upsnet_end2end_test.py | line 277: Batch 279/500, data_time:0.126, net_time:0.234, post_time:0.566\n",
            "2020-11-16 22:10:57,495 | upsnet_end2end_test.py | line 277: Batch 280/500, data_time:0.126, net_time:0.234, post_time:0.565\n",
            "2020-11-16 22:10:58,362 | upsnet_end2end_test.py | line 277: Batch 281/500, data_time:0.126, net_time:0.234, post_time:0.565\n",
            "2020-11-16 22:10:58,827 | upsnet_end2end_test.py | line 277: Batch 282/500, data_time:0.126, net_time:0.234, post_time:0.563\n",
            "2020-11-16 22:10:59,278 | upsnet_end2end_test.py | line 277: Batch 283/500, data_time:0.126, net_time:0.234, post_time:0.561\n",
            "2020-11-16 22:10:59,890 | upsnet_end2end_test.py | line 277: Batch 284/500, data_time:0.126, net_time:0.234, post_time:0.560\n",
            "2020-11-16 22:11:00,320 | upsnet_end2end_test.py | line 277: Batch 285/500, data_time:0.126, net_time:0.234, post_time:0.559\n",
            "2020-11-16 22:11:00,959 | upsnet_end2end_test.py | line 277: Batch 286/500, data_time:0.126, net_time:0.234, post_time:0.558\n",
            "2020-11-16 22:11:01,307 | upsnet_end2end_test.py | line 277: Batch 287/500, data_time:0.126, net_time:0.234, post_time:0.556\n",
            "2020-11-16 22:11:01,673 | upsnet_end2end_test.py | line 277: Batch 288/500, data_time:0.126, net_time:0.234, post_time:0.554\n",
            "2020-11-16 22:11:02,048 | upsnet_end2end_test.py | line 277: Batch 289/500, data_time:0.126, net_time:0.233, post_time:0.552\n",
            "2020-11-16 22:11:02,506 | upsnet_end2end_test.py | line 277: Batch 290/500, data_time:0.126, net_time:0.233, post_time:0.550\n",
            "2020-11-16 22:11:03,300 | upsnet_end2end_test.py | line 277: Batch 291/500, data_time:0.126, net_time:0.233, post_time:0.550\n",
            "2020-11-16 22:11:04,065 | upsnet_end2end_test.py | line 277: Batch 292/500, data_time:0.126, net_time:0.233, post_time:0.549\n",
            "2020-11-16 22:11:04,616 | upsnet_end2end_test.py | line 277: Batch 293/500, data_time:0.126, net_time:0.233, post_time:0.548\n",
            "2020-11-16 22:11:05,061 | upsnet_end2end_test.py | line 277: Batch 294/500, data_time:0.126, net_time:0.233, post_time:0.547\n",
            "2020-11-16 22:11:05,487 | upsnet_end2end_test.py | line 277: Batch 295/500, data_time:0.125, net_time:0.233, post_time:0.545\n",
            "2020-11-16 22:11:05,970 | upsnet_end2end_test.py | line 277: Batch 296/500, data_time:0.126, net_time:0.233, post_time:0.544\n",
            "2020-11-16 22:11:06,490 | upsnet_end2end_test.py | line 277: Batch 297/500, data_time:0.125, net_time:0.233, post_time:0.542\n",
            "2020-11-16 22:11:07,032 | upsnet_end2end_test.py | line 277: Batch 298/500, data_time:0.125, net_time:0.233, post_time:0.541\n",
            "2020-11-16 22:11:07,551 | upsnet_end2end_test.py | line 277: Batch 299/500, data_time:0.125, net_time:0.233, post_time:0.540\n",
            "2020-11-16 22:11:07,928 | upsnet_end2end_test.py | line 277: Batch 300/500, data_time:0.125, net_time:0.233, post_time:0.538\n",
            "2020-11-16 22:11:08,578 | upsnet_end2end_test.py | line 277: Batch 301/500, data_time:0.125, net_time:0.233, post_time:0.537\n",
            "2020-11-16 22:11:09,059 | upsnet_end2end_test.py | line 277: Batch 302/500, data_time:0.125, net_time:0.233, post_time:0.536\n",
            "2020-11-16 22:11:09,665 | upsnet_end2end_test.py | line 277: Batch 303/500, data_time:0.125, net_time:0.233, post_time:0.535\n",
            "2020-11-16 22:11:10,093 | upsnet_end2end_test.py | line 277: Batch 304/500, data_time:0.125, net_time:0.233, post_time:0.534\n",
            "2020-11-16 22:11:10,632 | upsnet_end2end_test.py | line 277: Batch 305/500, data_time:0.125, net_time:0.233, post_time:0.533\n",
            "2020-11-16 22:11:11,447 | upsnet_end2end_test.py | line 277: Batch 306/500, data_time:0.125, net_time:0.233, post_time:0.532\n",
            "2020-11-16 22:11:11,945 | upsnet_end2end_test.py | line 277: Batch 307/500, data_time:0.125, net_time:0.233, post_time:0.531\n",
            "2020-11-16 22:11:12,325 | upsnet_end2end_test.py | line 277: Batch 308/500, data_time:0.125, net_time:0.233, post_time:0.529\n",
            "2020-11-16 22:11:12,857 | upsnet_end2end_test.py | line 277: Batch 309/500, data_time:0.125, net_time:0.233, post_time:0.528\n",
            "2020-11-16 22:11:13,517 | upsnet_end2end_test.py | line 277: Batch 310/500, data_time:0.125, net_time:0.233, post_time:0.528\n",
            "2020-11-16 22:11:13,905 | upsnet_end2end_test.py | line 277: Batch 311/500, data_time:0.125, net_time:0.233, post_time:0.526\n",
            "2020-11-16 22:11:14,288 | upsnet_end2end_test.py | line 277: Batch 312/500, data_time:0.125, net_time:0.233, post_time:0.524\n",
            "2020-11-16 22:11:14,640 | upsnet_end2end_test.py | line 277: Batch 313/500, data_time:0.125, net_time:0.233, post_time:0.523\n",
            "2020-11-16 22:11:15,053 | upsnet_end2end_test.py | line 277: Batch 314/500, data_time:0.125, net_time:0.233, post_time:0.521\n",
            "2020-11-16 22:11:15,514 | upsnet_end2end_test.py | line 277: Batch 315/500, data_time:0.125, net_time:0.232, post_time:0.520\n",
            "2020-11-16 22:11:15,916 | upsnet_end2end_test.py | line 277: Batch 316/500, data_time:0.125, net_time:0.232, post_time:0.518\n",
            "2020-11-16 22:11:16,289 | upsnet_end2end_test.py | line 277: Batch 317/500, data_time:0.125, net_time:0.232, post_time:0.517\n",
            "2020-11-16 22:11:16,729 | upsnet_end2end_test.py | line 277: Batch 318/500, data_time:0.125, net_time:0.232, post_time:0.516\n",
            "2020-11-16 22:11:17,329 | upsnet_end2end_test.py | line 277: Batch 319/500, data_time:0.125, net_time:0.232, post_time:0.515\n",
            "2020-11-16 22:11:17,761 | upsnet_end2end_test.py | line 277: Batch 320/500, data_time:0.125, net_time:0.232, post_time:0.513\n",
            "2020-11-16 22:11:18,242 | upsnet_end2end_test.py | line 277: Batch 321/500, data_time:0.125, net_time:0.232, post_time:0.512\n",
            "2020-11-16 22:11:18,674 | upsnet_end2end_test.py | line 277: Batch 322/500, data_time:0.125, net_time:0.232, post_time:0.511\n",
            "2020-11-16 22:11:19,273 | upsnet_end2end_test.py | line 277: Batch 323/500, data_time:0.125, net_time:0.232, post_time:0.510\n",
            "2020-11-16 22:11:20,032 | upsnet_end2end_test.py | line 277: Batch 324/500, data_time:0.125, net_time:0.232, post_time:0.510\n",
            "2020-11-16 22:11:20,839 | upsnet_end2end_test.py | line 277: Batch 325/500, data_time:0.125, net_time:0.232, post_time:0.510\n",
            "2020-11-16 22:11:21,299 | upsnet_end2end_test.py | line 277: Batch 326/500, data_time:0.125, net_time:0.232, post_time:0.508\n",
            "2020-11-16 22:11:22,219 | upsnet_end2end_test.py | line 277: Batch 327/500, data_time:0.125, net_time:0.232, post_time:0.508\n",
            "2020-11-16 22:11:22,929 | upsnet_end2end_test.py | line 277: Batch 328/500, data_time:0.125, net_time:0.232, post_time:0.508\n",
            "2020-11-16 22:11:23,656 | upsnet_end2end_test.py | line 277: Batch 329/500, data_time:0.125, net_time:0.232, post_time:0.508\n",
            "2020-11-16 22:11:24,751 | upsnet_end2end_test.py | line 277: Batch 330/500, data_time:0.125, net_time:0.232, post_time:0.508\n",
            "2020-11-16 22:11:25,701 | upsnet_end2end_test.py | line 277: Batch 331/500, data_time:0.125, net_time:0.232, post_time:0.508\n",
            "2020-11-16 22:11:26,344 | upsnet_end2end_test.py | line 277: Batch 332/500, data_time:0.125, net_time:0.232, post_time:0.508\n",
            "2020-11-16 22:11:26,950 | upsnet_end2end_test.py | line 277: Batch 333/500, data_time:0.125, net_time:0.232, post_time:0.507\n",
            "2020-11-16 22:11:27,983 | upsnet_end2end_test.py | line 277: Batch 334/500, data_time:0.125, net_time:0.232, post_time:0.507\n",
            "2020-11-16 22:11:28,663 | upsnet_end2end_test.py | line 277: Batch 335/500, data_time:0.125, net_time:0.232, post_time:0.507\n",
            "2020-11-16 22:11:29,525 | upsnet_end2end_test.py | line 277: Batch 336/500, data_time:0.125, net_time:0.232, post_time:0.507\n",
            "2020-11-16 22:11:30,808 | upsnet_end2end_test.py | line 277: Batch 337/500, data_time:0.125, net_time:0.232, post_time:0.508\n",
            "2020-11-16 22:11:31,967 | upsnet_end2end_test.py | line 277: Batch 338/500, data_time:0.125, net_time:0.232, post_time:0.509\n",
            "2020-11-16 22:11:32,751 | upsnet_end2end_test.py | line 277: Batch 339/500, data_time:0.125, net_time:0.232, post_time:0.509\n",
            "2020-11-16 22:11:34,085 | upsnet_end2end_test.py | line 277: Batch 340/500, data_time:0.125, net_time:0.232, post_time:0.510\n",
            "2020-11-16 22:11:35,114 | upsnet_end2end_test.py | line 277: Batch 341/500, data_time:0.125, net_time:0.232, post_time:0.510\n",
            "2020-11-16 22:11:36,313 | upsnet_end2end_test.py | line 277: Batch 342/500, data_time:0.125, net_time:0.232, post_time:0.511\n",
            "2020-11-16 22:11:37,168 | upsnet_end2end_test.py | line 277: Batch 343/500, data_time:0.125, net_time:0.232, post_time:0.511\n",
            "2020-11-16 22:11:37,959 | upsnet_end2end_test.py | line 277: Batch 344/500, data_time:0.125, net_time:0.232, post_time:0.511\n",
            "2020-11-16 22:11:38,783 | upsnet_end2end_test.py | line 277: Batch 345/500, data_time:0.125, net_time:0.232, post_time:0.511\n",
            "2020-11-16 22:11:39,495 | upsnet_end2end_test.py | line 277: Batch 346/500, data_time:0.125, net_time:0.232, post_time:0.510\n",
            "2020-11-16 22:11:40,446 | upsnet_end2end_test.py | line 277: Batch 347/500, data_time:0.125, net_time:0.232, post_time:0.511\n",
            "2020-11-16 22:11:41,458 | upsnet_end2end_test.py | line 277: Batch 348/500, data_time:0.125, net_time:0.232, post_time:0.511\n",
            "2020-11-16 22:11:42,254 | upsnet_end2end_test.py | line 277: Batch 349/500, data_time:0.125, net_time:0.232, post_time:0.511\n",
            "2020-11-16 22:11:43,113 | upsnet_end2end_test.py | line 277: Batch 350/500, data_time:0.125, net_time:0.232, post_time:0.511\n",
            "2020-11-16 22:11:43,889 | upsnet_end2end_test.py | line 277: Batch 351/500, data_time:0.125, net_time:0.232, post_time:0.510\n",
            "2020-11-16 22:11:44,758 | upsnet_end2end_test.py | line 277: Batch 352/500, data_time:0.125, net_time:0.232, post_time:0.510\n",
            "2020-11-16 22:11:45,851 | upsnet_end2end_test.py | line 277: Batch 353/500, data_time:0.125, net_time:0.232, post_time:0.511\n",
            "2020-11-16 22:11:46,859 | upsnet_end2end_test.py | line 277: Batch 354/500, data_time:0.125, net_time:0.232, post_time:0.511\n",
            "2020-11-16 22:11:47,653 | upsnet_end2end_test.py | line 277: Batch 355/500, data_time:0.125, net_time:0.232, post_time:0.511\n",
            "2020-11-16 22:11:48,493 | upsnet_end2end_test.py | line 277: Batch 356/500, data_time:0.125, net_time:0.232, post_time:0.511\n",
            "2020-11-16 22:11:49,097 | upsnet_end2end_test.py | line 277: Batch 357/500, data_time:0.125, net_time:0.232, post_time:0.510\n",
            "2020-11-16 22:11:50,214 | upsnet_end2end_test.py | line 277: Batch 358/500, data_time:0.125, net_time:0.232, post_time:0.511\n",
            "2020-11-16 22:11:51,476 | upsnet_end2end_test.py | line 277: Batch 359/500, data_time:0.125, net_time:0.232, post_time:0.512\n",
            "2020-11-16 22:11:52,366 | upsnet_end2end_test.py | line 277: Batch 360/500, data_time:0.125, net_time:0.232, post_time:0.512\n",
            "2020-11-16 22:11:53,029 | upsnet_end2end_test.py | line 277: Batch 361/500, data_time:0.125, net_time:0.232, post_time:0.511\n",
            "2020-11-16 22:11:53,546 | upsnet_end2end_test.py | line 277: Batch 362/500, data_time:0.125, net_time:0.232, post_time:0.510\n",
            "2020-11-16 22:11:54,175 | upsnet_end2end_test.py | line 277: Batch 363/500, data_time:0.125, net_time:0.232, post_time:0.510\n",
            "2020-11-16 22:11:54,958 | upsnet_end2end_test.py | line 277: Batch 364/500, data_time:0.125, net_time:0.232, post_time:0.509\n",
            "2020-11-16 22:11:56,132 | upsnet_end2end_test.py | line 277: Batch 365/500, data_time:0.125, net_time:0.232, post_time:0.510\n",
            "2020-11-16 22:11:57,010 | upsnet_end2end_test.py | line 277: Batch 366/500, data_time:0.125, net_time:0.232, post_time:0.510\n",
            "2020-11-16 22:11:58,142 | upsnet_end2end_test.py | line 277: Batch 367/500, data_time:0.125, net_time:0.232, post_time:0.511\n",
            "2020-11-16 22:11:59,446 | upsnet_end2end_test.py | line 277: Batch 368/500, data_time:0.125, net_time:0.232, post_time:0.512\n",
            "2020-11-16 22:12:00,704 | upsnet_end2end_test.py | line 277: Batch 369/500, data_time:0.125, net_time:0.232, post_time:0.513\n",
            "2020-11-16 22:12:01,553 | upsnet_end2end_test.py | line 277: Batch 370/500, data_time:0.125, net_time:0.232, post_time:0.513\n",
            "2020-11-16 22:12:02,540 | upsnet_end2end_test.py | line 277: Batch 371/500, data_time:0.125, net_time:0.232, post_time:0.513\n",
            "2020-11-16 22:12:03,554 | upsnet_end2end_test.py | line 277: Batch 372/500, data_time:0.125, net_time:0.232, post_time:0.513\n",
            "2020-11-16 22:12:04,839 | upsnet_end2end_test.py | line 277: Batch 373/500, data_time:0.125, net_time:0.232, post_time:0.515\n",
            "2020-11-16 22:12:05,919 | upsnet_end2end_test.py | line 277: Batch 374/500, data_time:0.125, net_time:0.232, post_time:0.515\n",
            "2020-11-16 22:12:07,259 | upsnet_end2end_test.py | line 277: Batch 375/500, data_time:0.125, net_time:0.232, post_time:0.516\n",
            "2020-11-16 22:12:08,601 | upsnet_end2end_test.py | line 277: Batch 376/500, data_time:0.125, net_time:0.232, post_time:0.517\n",
            "2020-11-16 22:12:09,386 | upsnet_end2end_test.py | line 277: Batch 377/500, data_time:0.125, net_time:0.232, post_time:0.517\n",
            "2020-11-16 22:12:10,693 | upsnet_end2end_test.py | line 277: Batch 378/500, data_time:0.125, net_time:0.232, post_time:0.518\n",
            "2020-11-16 22:12:12,041 | upsnet_end2end_test.py | line 277: Batch 379/500, data_time:0.125, net_time:0.233, post_time:0.519\n",
            "2020-11-16 22:12:13,015 | upsnet_end2end_test.py | line 277: Batch 380/500, data_time:0.125, net_time:0.233, post_time:0.520\n",
            "2020-11-16 22:12:13,929 | upsnet_end2end_test.py | line 277: Batch 381/500, data_time:0.125, net_time:0.233, post_time:0.520\n",
            "2020-11-16 22:12:14,928 | upsnet_end2end_test.py | line 277: Batch 382/500, data_time:0.125, net_time:0.233, post_time:0.520\n",
            "2020-11-16 22:12:16,299 | upsnet_end2end_test.py | line 277: Batch 383/500, data_time:0.125, net_time:0.233, post_time:0.521\n",
            "2020-11-16 22:12:17,523 | upsnet_end2end_test.py | line 277: Batch 384/500, data_time:0.125, net_time:0.233, post_time:0.522\n",
            "2020-11-16 22:12:18,159 | upsnet_end2end_test.py | line 277: Batch 385/500, data_time:0.125, net_time:0.233, post_time:0.521\n",
            "2020-11-16 22:12:19,516 | upsnet_end2end_test.py | line 277: Batch 386/500, data_time:0.125, net_time:0.233, post_time:0.523\n",
            "2020-11-16 22:12:20,820 | upsnet_end2end_test.py | line 277: Batch 387/500, data_time:0.125, net_time:0.233, post_time:0.524\n",
            "2020-11-16 22:12:21,761 | upsnet_end2end_test.py | line 277: Batch 388/500, data_time:0.125, net_time:0.233, post_time:0.524\n",
            "2020-11-16 22:12:22,818 | upsnet_end2end_test.py | line 277: Batch 389/500, data_time:0.125, net_time:0.233, post_time:0.524\n",
            "2020-11-16 22:12:23,851 | upsnet_end2end_test.py | line 277: Batch 390/500, data_time:0.125, net_time:0.233, post_time:0.524\n",
            "2020-11-16 22:12:24,663 | upsnet_end2end_test.py | line 277: Batch 391/500, data_time:0.125, net_time:0.233, post_time:0.524\n",
            "2020-11-16 22:12:25,421 | upsnet_end2end_test.py | line 277: Batch 392/500, data_time:0.125, net_time:0.233, post_time:0.524\n",
            "2020-11-16 22:12:26,486 | upsnet_end2end_test.py | line 277: Batch 393/500, data_time:0.125, net_time:0.233, post_time:0.524\n",
            "2020-11-16 22:12:27,130 | upsnet_end2end_test.py | line 277: Batch 394/500, data_time:0.125, net_time:0.233, post_time:0.524\n",
            "2020-11-16 22:12:27,929 | upsnet_end2end_test.py | line 277: Batch 395/500, data_time:0.125, net_time:0.233, post_time:0.523\n",
            "2020-11-16 22:12:29,008 | upsnet_end2end_test.py | line 277: Batch 396/500, data_time:0.125, net_time:0.233, post_time:0.524\n",
            "2020-11-16 22:12:30,227 | upsnet_end2end_test.py | line 277: Batch 397/500, data_time:0.125, net_time:0.233, post_time:0.525\n",
            "2020-11-16 22:12:31,499 | upsnet_end2end_test.py | line 277: Batch 398/500, data_time:0.125, net_time:0.233, post_time:0.526\n",
            "2020-11-16 22:12:32,472 | upsnet_end2end_test.py | line 277: Batch 399/500, data_time:0.125, net_time:0.233, post_time:0.526\n",
            "2020-11-16 22:12:33,311 | upsnet_end2end_test.py | line 277: Batch 400/500, data_time:0.125, net_time:0.233, post_time:0.526\n",
            "2020-11-16 22:12:34,224 | upsnet_end2end_test.py | line 277: Batch 401/500, data_time:0.125, net_time:0.233, post_time:0.526\n",
            "2020-11-16 22:12:35,064 | upsnet_end2end_test.py | line 277: Batch 402/500, data_time:0.125, net_time:0.233, post_time:0.526\n",
            "2020-11-16 22:12:35,786 | upsnet_end2end_test.py | line 277: Batch 403/500, data_time:0.125, net_time:0.233, post_time:0.525\n",
            "2020-11-16 22:12:36,555 | upsnet_end2end_test.py | line 277: Batch 404/500, data_time:0.125, net_time:0.233, post_time:0.525\n",
            "2020-11-16 22:12:37,633 | upsnet_end2end_test.py | line 277: Batch 405/500, data_time:0.125, net_time:0.233, post_time:0.525\n",
            "2020-11-16 22:12:38,452 | upsnet_end2end_test.py | line 277: Batch 406/500, data_time:0.125, net_time:0.233, post_time:0.525\n",
            "2020-11-16 22:12:39,321 | upsnet_end2end_test.py | line 277: Batch 407/500, data_time:0.125, net_time:0.233, post_time:0.525\n",
            "2020-11-16 22:12:39,969 | upsnet_end2end_test.py | line 277: Batch 408/500, data_time:0.125, net_time:0.233, post_time:0.525\n",
            "2020-11-16 22:12:40,565 | upsnet_end2end_test.py | line 277: Batch 409/500, data_time:0.125, net_time:0.233, post_time:0.524\n",
            "2020-11-16 22:12:41,372 | upsnet_end2end_test.py | line 277: Batch 410/500, data_time:0.125, net_time:0.233, post_time:0.524\n",
            "2020-11-16 22:12:42,405 | upsnet_end2end_test.py | line 277: Batch 411/500, data_time:0.125, net_time:0.233, post_time:0.524\n",
            "2020-11-16 22:12:43,621 | upsnet_end2end_test.py | line 277: Batch 412/500, data_time:0.125, net_time:0.233, post_time:0.525\n",
            "2020-11-16 22:12:44,432 | upsnet_end2end_test.py | line 277: Batch 413/500, data_time:0.125, net_time:0.233, post_time:0.525\n",
            "2020-11-16 22:12:45,209 | upsnet_end2end_test.py | line 277: Batch 414/500, data_time:0.125, net_time:0.233, post_time:0.524\n",
            "2020-11-16 22:12:45,970 | upsnet_end2end_test.py | line 277: Batch 415/500, data_time:0.125, net_time:0.233, post_time:0.524\n",
            "2020-11-16 22:12:46,860 | upsnet_end2end_test.py | line 277: Batch 416/500, data_time:0.125, net_time:0.233, post_time:0.524\n",
            "2020-11-16 22:12:48,031 | upsnet_end2end_test.py | line 277: Batch 417/500, data_time:0.125, net_time:0.233, post_time:0.525\n",
            "2020-11-16 22:12:49,031 | upsnet_end2end_test.py | line 277: Batch 418/500, data_time:0.125, net_time:0.233, post_time:0.525\n",
            "2020-11-16 22:12:49,986 | upsnet_end2end_test.py | line 277: Batch 419/500, data_time:0.125, net_time:0.233, post_time:0.525\n",
            "2020-11-16 22:12:50,769 | upsnet_end2end_test.py | line 277: Batch 420/500, data_time:0.125, net_time:0.233, post_time:0.525\n",
            "2020-11-16 22:12:52,130 | upsnet_end2end_test.py | line 277: Batch 421/500, data_time:0.125, net_time:0.233, post_time:0.526\n",
            "2020-11-16 22:12:52,853 | upsnet_end2end_test.py | line 277: Batch 422/500, data_time:0.125, net_time:0.233, post_time:0.525\n",
            "2020-11-16 22:12:53,854 | upsnet_end2end_test.py | line 277: Batch 423/500, data_time:0.125, net_time:0.233, post_time:0.526\n",
            "2020-11-16 22:12:54,928 | upsnet_end2end_test.py | line 277: Batch 424/500, data_time:0.125, net_time:0.233, post_time:0.526\n",
            "2020-11-16 22:12:55,753 | upsnet_end2end_test.py | line 277: Batch 425/500, data_time:0.125, net_time:0.233, post_time:0.526\n",
            "2020-11-16 22:12:56,601 | upsnet_end2end_test.py | line 277: Batch 426/500, data_time:0.125, net_time:0.233, post_time:0.526\n",
            "2020-11-16 22:12:56,980 | upsnet_end2end_test.py | line 277: Batch 427/500, data_time:0.125, net_time:0.233, post_time:0.525\n",
            "2020-11-16 22:12:57,840 | upsnet_end2end_test.py | line 277: Batch 428/500, data_time:0.125, net_time:0.233, post_time:0.525\n",
            "2020-11-16 22:12:58,724 | upsnet_end2end_test.py | line 277: Batch 429/500, data_time:0.125, net_time:0.233, post_time:0.525\n",
            "2020-11-16 22:12:59,644 | upsnet_end2end_test.py | line 277: Batch 430/500, data_time:0.125, net_time:0.233, post_time:0.525\n",
            "2020-11-16 22:13:00,657 | upsnet_end2end_test.py | line 277: Batch 431/500, data_time:0.125, net_time:0.233, post_time:0.525\n",
            "2020-11-16 22:13:01,681 | upsnet_end2end_test.py | line 277: Batch 432/500, data_time:0.125, net_time:0.233, post_time:0.525\n",
            "2020-11-16 22:13:02,558 | upsnet_end2end_test.py | line 277: Batch 433/500, data_time:0.125, net_time:0.233, post_time:0.525\n",
            "2020-11-16 22:13:03,171 | upsnet_end2end_test.py | line 277: Batch 434/500, data_time:0.125, net_time:0.233, post_time:0.525\n",
            "2020-11-16 22:13:03,943 | upsnet_end2end_test.py | line 277: Batch 435/500, data_time:0.125, net_time:0.233, post_time:0.524\n",
            "2020-11-16 22:13:04,538 | upsnet_end2end_test.py | line 277: Batch 436/500, data_time:0.125, net_time:0.233, post_time:0.524\n",
            "2020-11-16 22:13:05,210 | upsnet_end2end_test.py | line 277: Batch 437/500, data_time:0.125, net_time:0.233, post_time:0.523\n",
            "2020-11-16 22:13:06,029 | upsnet_end2end_test.py | line 277: Batch 438/500, data_time:0.125, net_time:0.233, post_time:0.523\n",
            "2020-11-16 22:13:06,814 | upsnet_end2end_test.py | line 277: Batch 439/500, data_time:0.125, net_time:0.233, post_time:0.523\n",
            "2020-11-16 22:13:07,583 | upsnet_end2end_test.py | line 277: Batch 440/500, data_time:0.125, net_time:0.233, post_time:0.522\n",
            "2020-11-16 22:13:08,444 | upsnet_end2end_test.py | line 277: Batch 441/500, data_time:0.125, net_time:0.233, post_time:0.522\n",
            "2020-11-16 22:13:09,144 | upsnet_end2end_test.py | line 277: Batch 442/500, data_time:0.125, net_time:0.233, post_time:0.522\n",
            "2020-11-16 22:13:09,786 | upsnet_end2end_test.py | line 277: Batch 443/500, data_time:0.125, net_time:0.233, post_time:0.521\n",
            "2020-11-16 22:13:10,356 | upsnet_end2end_test.py | line 277: Batch 444/500, data_time:0.125, net_time:0.233, post_time:0.521\n",
            "2020-11-16 22:13:10,897 | upsnet_end2end_test.py | line 277: Batch 445/500, data_time:0.125, net_time:0.233, post_time:0.520\n",
            "2020-11-16 22:13:11,699 | upsnet_end2end_test.py | line 277: Batch 446/500, data_time:0.125, net_time:0.233, post_time:0.520\n",
            "2020-11-16 22:13:12,290 | upsnet_end2end_test.py | line 277: Batch 447/500, data_time:0.125, net_time:0.233, post_time:0.519\n",
            "2020-11-16 22:13:12,922 | upsnet_end2end_test.py | line 277: Batch 448/500, data_time:0.125, net_time:0.233, post_time:0.519\n",
            "2020-11-16 22:13:13,519 | upsnet_end2end_test.py | line 277: Batch 449/500, data_time:0.125, net_time:0.233, post_time:0.518\n",
            "2020-11-16 22:13:14,221 | upsnet_end2end_test.py | line 277: Batch 450/500, data_time:0.125, net_time:0.233, post_time:0.518\n",
            "2020-11-16 22:13:14,874 | upsnet_end2end_test.py | line 277: Batch 451/500, data_time:0.125, net_time:0.233, post_time:0.517\n",
            "2020-11-16 22:13:15,611 | upsnet_end2end_test.py | line 277: Batch 452/500, data_time:0.125, net_time:0.233, post_time:0.517\n",
            "2020-11-16 22:13:16,290 | upsnet_end2end_test.py | line 277: Batch 453/500, data_time:0.125, net_time:0.233, post_time:0.516\n",
            "2020-11-16 22:13:16,983 | upsnet_end2end_test.py | line 277: Batch 454/500, data_time:0.125, net_time:0.233, post_time:0.516\n",
            "2020-11-16 22:13:17,958 | upsnet_end2end_test.py | line 277: Batch 455/500, data_time:0.125, net_time:0.233, post_time:0.516\n",
            "2020-11-16 22:13:19,080 | upsnet_end2end_test.py | line 277: Batch 456/500, data_time:0.124, net_time:0.233, post_time:0.517\n",
            "2020-11-16 22:13:19,702 | upsnet_end2end_test.py | line 277: Batch 457/500, data_time:0.125, net_time:0.233, post_time:0.516\n",
            "2020-11-16 22:13:20,529 | upsnet_end2end_test.py | line 277: Batch 458/500, data_time:0.124, net_time:0.233, post_time:0.516\n",
            "2020-11-16 22:13:21,222 | upsnet_end2end_test.py | line 277: Batch 459/500, data_time:0.124, net_time:0.233, post_time:0.516\n",
            "2020-11-16 22:13:21,860 | upsnet_end2end_test.py | line 277: Batch 460/500, data_time:0.124, net_time:0.233, post_time:0.515\n",
            "2020-11-16 22:13:22,939 | upsnet_end2end_test.py | line 277: Batch 461/500, data_time:0.124, net_time:0.233, post_time:0.515\n",
            "2020-11-16 22:13:23,582 | upsnet_end2end_test.py | line 277: Batch 462/500, data_time:0.124, net_time:0.233, post_time:0.515\n",
            "2020-11-16 22:13:24,252 | upsnet_end2end_test.py | line 277: Batch 463/500, data_time:0.124, net_time:0.233, post_time:0.514\n",
            "2020-11-16 22:13:24,866 | upsnet_end2end_test.py | line 277: Batch 464/500, data_time:0.124, net_time:0.233, post_time:0.514\n",
            "2020-11-16 22:13:26,009 | upsnet_end2end_test.py | line 277: Batch 465/500, data_time:0.124, net_time:0.233, post_time:0.514\n",
            "2020-11-16 22:13:27,361 | upsnet_end2end_test.py | line 277: Batch 466/500, data_time:0.124, net_time:0.233, post_time:0.515\n",
            "2020-11-16 22:13:28,533 | upsnet_end2end_test.py | line 277: Batch 467/500, data_time:0.124, net_time:0.233, post_time:0.516\n",
            "2020-11-16 22:13:29,850 | upsnet_end2end_test.py | line 277: Batch 468/500, data_time:0.124, net_time:0.233, post_time:0.517\n",
            "2020-11-16 22:13:30,851 | upsnet_end2end_test.py | line 277: Batch 469/500, data_time:0.124, net_time:0.233, post_time:0.517\n",
            "2020-11-16 22:13:32,092 | upsnet_end2end_test.py | line 277: Batch 470/500, data_time:0.124, net_time:0.233, post_time:0.518\n",
            "2020-11-16 22:13:33,429 | upsnet_end2end_test.py | line 277: Batch 471/500, data_time:0.124, net_time:0.233, post_time:0.519\n",
            "2020-11-16 22:13:34,737 | upsnet_end2end_test.py | line 277: Batch 472/500, data_time:0.124, net_time:0.233, post_time:0.520\n",
            "2020-11-16 22:13:36,051 | upsnet_end2end_test.py | line 277: Batch 473/500, data_time:0.124, net_time:0.233, post_time:0.521\n",
            "2020-11-16 22:13:37,076 | upsnet_end2end_test.py | line 277: Batch 474/500, data_time:0.124, net_time:0.233, post_time:0.521\n",
            "2020-11-16 22:13:38,333 | upsnet_end2end_test.py | line 277: Batch 475/500, data_time:0.124, net_time:0.233, post_time:0.522\n",
            "2020-11-16 22:13:39,431 | upsnet_end2end_test.py | line 277: Batch 476/500, data_time:0.124, net_time:0.233, post_time:0.522\n",
            "2020-11-16 22:13:40,339 | upsnet_end2end_test.py | line 277: Batch 477/500, data_time:0.124, net_time:0.233, post_time:0.522\n",
            "2020-11-16 22:13:41,203 | upsnet_end2end_test.py | line 277: Batch 478/500, data_time:0.124, net_time:0.233, post_time:0.522\n",
            "2020-11-16 22:13:42,094 | upsnet_end2end_test.py | line 277: Batch 479/500, data_time:0.124, net_time:0.233, post_time:0.522\n",
            "2020-11-16 22:13:43,244 | upsnet_end2end_test.py | line 277: Batch 480/500, data_time:0.124, net_time:0.233, post_time:0.523\n",
            "2020-11-16 22:13:44,058 | upsnet_end2end_test.py | line 277: Batch 481/500, data_time:0.124, net_time:0.233, post_time:0.522\n",
            "2020-11-16 22:13:45,143 | upsnet_end2end_test.py | line 277: Batch 482/500, data_time:0.124, net_time:0.233, post_time:0.523\n",
            "2020-11-16 22:13:46,120 | upsnet_end2end_test.py | line 277: Batch 483/500, data_time:0.124, net_time:0.233, post_time:0.523\n",
            "2020-11-16 22:13:46,890 | upsnet_end2end_test.py | line 277: Batch 484/500, data_time:0.124, net_time:0.233, post_time:0.523\n",
            "2020-11-16 22:13:47,812 | upsnet_end2end_test.py | line 277: Batch 485/500, data_time:0.124, net_time:0.233, post_time:0.523\n",
            "2020-11-16 22:13:48,480 | upsnet_end2end_test.py | line 277: Batch 486/500, data_time:0.124, net_time:0.233, post_time:0.522\n",
            "2020-11-16 22:13:49,552 | upsnet_end2end_test.py | line 277: Batch 487/500, data_time:0.124, net_time:0.233, post_time:0.523\n",
            "2020-11-16 22:13:50,048 | upsnet_end2end_test.py | line 277: Batch 488/500, data_time:0.124, net_time:0.233, post_time:0.522\n",
            "2020-11-16 22:13:50,698 | upsnet_end2end_test.py | line 277: Batch 489/500, data_time:0.124, net_time:0.233, post_time:0.522\n",
            "2020-11-16 22:13:51,233 | upsnet_end2end_test.py | line 277: Batch 490/500, data_time:0.124, net_time:0.233, post_time:0.521\n",
            "2020-11-16 22:13:51,903 | upsnet_end2end_test.py | line 277: Batch 491/500, data_time:0.124, net_time:0.233, post_time:0.520\n",
            "2020-11-16 22:13:52,887 | upsnet_end2end_test.py | line 277: Batch 492/500, data_time:0.124, net_time:0.233, post_time:0.521\n",
            "2020-11-16 22:13:53,962 | upsnet_end2end_test.py | line 277: Batch 493/500, data_time:0.124, net_time:0.233, post_time:0.521\n",
            "2020-11-16 22:13:55,125 | upsnet_end2end_test.py | line 277: Batch 494/500, data_time:0.124, net_time:0.233, post_time:0.522\n",
            "2020-11-16 22:13:55,729 | upsnet_end2end_test.py | line 277: Batch 495/500, data_time:0.124, net_time:0.233, post_time:0.521\n",
            "2020-11-16 22:13:56,733 | upsnet_end2end_test.py | line 277: Batch 496/500, data_time:0.124, net_time:0.233, post_time:0.521\n",
            "2020-11-16 22:13:57,471 | upsnet_end2end_test.py | line 277: Batch 497/500, data_time:0.124, net_time:0.233, post_time:0.521\n",
            "2020-11-16 22:13:58,061 | upsnet_end2end_test.py | line 277: Batch 498/500, data_time:0.124, net_time:0.233, post_time:0.520\n",
            "2020-11-16 22:13:58,773 | upsnet_end2end_test.py | line 277: Batch 499/500, data_time:0.124, net_time:0.233, post_time:0.520\n",
            "2020-11-16 22:13:59,236 | upsnet_end2end_test.py | line 277: Batch 500/500, data_time:0.124, net_time:0.233, post_time:0.519\n",
            "tcmalloc: large alloc 1484857344 bytes == 0x7f84df7ee000 @  0x7f86c8f1e2a4 0x591e47 0x4dd737 0x4e2b00 0x4e214a 0x4e0df8 0x4e255b 0x4e2363 0x4e29d0 0x4e33c6 0x4544bc 0x50a25a 0x50beb4 0x5095c8 0x50a2fd 0x50beb4 0x507be4 0x50ad03 0x634e72 0x634f27 0x6386df 0x639281 0x4b0dc0 0x7f86c8b1abf7 0x5b259a\n",
            "tcmalloc: large alloc 2230419456 bytes == 0x7f845a8d6000 @  0x7f86c8f1e2a4 0x591e47 0x4dd737 0x4e2b00 0x4e214a 0x4e0df8 0x4e255b 0x4e2387 0x4e2a20 0x4e33c6 0x4544bc 0x50a25a 0x50beb4 0x5095c8 0x50a2fd 0x50beb4 0x507be4 0x50ad03 0x634e72 0x634f27 0x6386df 0x639281 0x4b0dc0 0x7f86c8b1abf7 0x5b259a\n",
            "2020-11-16 22:14:21,634 | base_dataset.py | line 194: Writing bbox results json to: /content/UPSNet/output/upsnet/cityscapes/upsnet_resnet50_cityscapes_4gpu/val/results/bbox_cityscapes_val_results.json\n",
            "Loading and preparing results...\n",
            "DONE (t=0.25s)\n",
            "creating index...\n",
            "index created!\n",
            "Running per image evaluation...\n",
            "Evaluate annotation type *bbox*\n",
            "DONE (t=7.66s).\n",
            "Accumulating evaluation results...\n",
            "DONE (t=0.42s).\n",
            "2020-11-16 22:14:30,703 | base_dataset.py | line 706: ~~~~ Mean and per-category AP @ IoU=[0.50,0.95] ~~~~\n",
            "2020-11-16 22:14:30,704 | base_dataset.py | line 714: 0.383\n",
            "2020-11-16 22:14:30,704 | base_dataset.py | line 714: 0.423\n",
            "2020-11-16 22:14:30,704 | base_dataset.py | line 714: 0.566\n",
            "2020-11-16 22:14:30,704 | base_dataset.py | line 714: 0.312\n",
            "2020-11-16 22:14:30,704 | base_dataset.py | line 714: 0.515\n",
            "2020-11-16 22:14:30,704 | base_dataset.py | line 714: 0.218\n",
            "2020-11-16 22:14:30,704 | base_dataset.py | line 714: 0.245\n",
            "2020-11-16 22:14:30,704 | base_dataset.py | line 714: 0.320\n",
            "2020-11-16 22:14:30,705 | base_dataset.py | line 716: 0.373\n",
            "2020-11-16 22:14:30,705 | base_dataset.py | line 706: ~~~~ Mean and per-category AP @ IoU=[0.50,0.50] ~~~~\n",
            "2020-11-16 22:14:30,705 | base_dataset.py | line 714: 0.682\n",
            "2020-11-16 22:14:30,705 | base_dataset.py | line 714: 0.736\n",
            "2020-11-16 22:14:30,705 | base_dataset.py | line 714: 0.818\n",
            "2020-11-16 22:14:30,705 | base_dataset.py | line 714: 0.487\n",
            "2020-11-16 22:14:30,705 | base_dataset.py | line 714: 0.731\n",
            "2020-11-16 22:14:30,705 | base_dataset.py | line 714: 0.525\n",
            "2020-11-16 22:14:30,706 | base_dataset.py | line 714: 0.519\n",
            "2020-11-16 22:14:30,706 | base_dataset.py | line 714: 0.647\n",
            "2020-11-16 22:14:30,706 | base_dataset.py | line 716: 0.643\n",
            "2020-11-16 22:14:30,706 | base_dataset.py | line 718: ~~~~ Summary metrics ~~~~\n",
            " Average Precision  (AP) @[ IoU=0.50:0.95 | area=   all | maxDets=100 ] = 0.373\n",
            " Average Precision  (AP) @[ IoU=0.50      | area=   all | maxDets=100 ] = 0.643\n",
            " Average Precision  (AP) @[ IoU=0.75      | area=   all | maxDets=100 ] = 0.372\n",
            " Average Precision  (AP) @[ IoU=0.50:0.95 | area= small | maxDets=100 ] = 0.170\n",
            " Average Precision  (AP) @[ IoU=0.50:0.95 | area=medium | maxDets=100 ] = 0.377\n",
            " Average Precision  (AP) @[ IoU=0.50:0.95 | area= large | maxDets=100 ] = 0.553\n",
            " Average Recall     (AR) @[ IoU=0.50:0.95 | area=   all | maxDets=  1 ] = 0.245\n",
            " Average Recall     (AR) @[ IoU=0.50:0.95 | area=   all | maxDets= 10 ] = 0.436\n",
            " Average Recall     (AR) @[ IoU=0.50:0.95 | area=   all | maxDets=100 ] = 0.467\n",
            " Average Recall     (AR) @[ IoU=0.50:0.95 | area= small | maxDets=100 ] = 0.229\n",
            " Average Recall     (AR) @[ IoU=0.50:0.95 | area=medium | maxDets=100 ] = 0.470\n",
            " Average Recall     (AR) @[ IoU=0.50:0.95 | area= large | maxDets=100 ] = 0.661\n",
            "Note that this tool uses the file '/content/UPSNet/lib/dataset_devkit/cityscapesScripts/cityscapesscripts/evaluation/gtInstances.json' to cache the ground truth instances.\n",
            "If anything goes wrong, or if you change the ground truth, please delete the file.\n",
            "Creating ground truth instances from png files.\n",
            "Processing 500 images...\n",
            "Images Processed: 500 \n",
            "Matching 500 pairs of images...\n",
            "Images Processed: 500 \n",
            "\n",
            "##################################################\n",
            "\u001b[1mwhat           :             AP         AP_50%\u001b[0m\n",
            "##################################################\n",
            "person         :\u001b[33;1m          0.307\u001b[36;1m          0.649\u001b[0m\n",
            "rider          :\u001b[33;1m          0.248\u001b[36;1m          0.673\u001b[0m\n",
            "car            :\u001b[34;1m          0.511\u001b[36;1m          0.766\u001b[0m\n",
            "truck          :\u001b[33;1m          0.297\u001b[34;1m          0.478\u001b[0m\n",
            "bus            :\u001b[34;1m          0.516\u001b[36;1m          0.740\u001b[0m\n",
            "train          :\u001b[33;1m          0.322\u001b[34;1m          0.532\u001b[0m\n",
            "motorcycle     :\u001b[31;1m          0.167\u001b[34;1m          0.438\u001b[0m\n",
            "bicycle        :\u001b[31;1m          0.191\u001b[34;1m          0.544\u001b[0m\n",
            "--------------------------------------------------\n",
            "average        :\u001b[33;1m          0.320\u001b[36;1m          0.603\u001b[0m\n",
            "\n",
            "2020-11-16 22:39:00,209 | upsnet_end2end_test.py | line 314: unified pano result:\n",
            "tcmalloc: large alloc 1915772928 bytes == 0x7f836624a000 @  0x7f86c8f1e2a4 0x591e47 0x4dd737 0x4e2b00 0x4e214a 0x4e0df8 0x4e255b 0x4e2313 0x4e1eeb 0x4e1eeb 0x4e33c6 0x5eb562 0x50a1cc 0x50beb4 0x507be4 0x509900 0x50a2fd 0x50beb4 0x5095c8 0x50a2fd 0x50beb4 0x507be4 0x588d41 0x59fd0e 0x50d256 0x5095c8 0x50a2fd 0x50beb4 0x5095c8 0x50a2fd 0x50beb4\n"
          ],
          "name": "stdout"
        }
      ]
    }
  ]
}